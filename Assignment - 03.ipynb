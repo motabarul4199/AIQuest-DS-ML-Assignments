{
 "cells": [
  {
   "cell_type": "markdown",
   "id": "d2dbf509",
   "metadata": {},
   "source": [
    "# Write a Python program to swap the values of two variables without using a temporary variable. "
   ]
  },
  {
   "cell_type": "code",
   "execution_count": 8,
   "id": "e08b69f5",
   "metadata": {},
   "outputs": [
    {
     "name": "stdout",
     "output_type": "stream",
     "text": [
      "a: 25\n",
      "b: 20\n"
     ]
    }
   ],
   "source": [
    "a = 20\n",
    "b = 25\n",
    "a, b = b, a\n",
    "print(\"a:\", a)\n",
    "print(\"b:\", b)\n"
   ]
  },
  {
   "cell_type": "markdown",
   "id": "80ccab78",
   "metadata": {},
   "source": [
    "# Write a Python program that takes an integer as input and prints whether it is even or odd.\n"
   ]
  },
  {
   "cell_type": "code",
   "execution_count": 9,
   "id": "bc914ec9",
   "metadata": {},
   "outputs": [
    {
     "name": "stdout",
     "output_type": "stream",
     "text": [
      "Enter an integer: 34\n",
      "Even\n"
     ]
    }
   ],
   "source": [
    "num = int(input(\"Enter an integer: \"))\n",
    "if num % 2 == 0:\n",
    "    print(\"Even\")\n",
    "else:\n",
    "    print(\"Odd\")\n"
   ]
  },
  {
   "cell_type": "markdown",
   "id": "15c6920a",
   "metadata": {},
   "source": [
    "# Write a Python function to reverse a given string and return the reversed string."
   ]
  },
  {
   "cell_type": "code",
   "execution_count": 10,
   "id": "1f7658bf",
   "metadata": {},
   "outputs": [
    {
     "name": "stdout",
     "output_type": "stream",
     "text": [
      "Enter a string: shupan khan\n",
      "Reversed string: nahk napuhs\n"
     ]
    }
   ],
   "source": [
    "def reverse_string(string):\n",
    "    return string[::-1]\n",
    "\n",
    "input_string = input(\"Enter a string: \")\n",
    "reversed_string = reverse_string(input_string)\n",
    "print(\"Reversed string:\", reversed_string)\n"
   ]
  },
  {
   "cell_type": "markdown",
   "id": "ccc23b32",
   "metadata": {},
   "source": [
    "# Given a list of integers, write a Python program to convert each element of the list to a string.\n"
   ]
  },
  {
   "cell_type": "code",
   "execution_count": 11,
   "id": "b3564750",
   "metadata": {},
   "outputs": [
    {
     "name": "stdout",
     "output_type": "stream",
     "text": [
      "['1', '2', '3', '4', '5', '6', '7', '8', '9', '10']\n"
     ]
    }
   ],
   "source": [
    "integer_list = [1, 2, 3, 4, 5, 6, 7, 8, 9, 10]\n",
    "string_list = [str(num) for num in integer_list]\n",
    "print(string_list)\n"
   ]
  },
  {
   "cell_type": "markdown",
   "id": "69417f3a",
   "metadata": {},
   "source": [
    "#  Write a Python program that converts a temperature in Celsius to Fahrenheit. Take the Celsius temperature as input from the user."
   ]
  },
  {
   "cell_type": "code",
   "execution_count": 12,
   "id": "1b87f468",
   "metadata": {},
   "outputs": [
    {
     "name": "stdout",
     "output_type": "stream",
     "text": [
      "Enter temperature in Celsius: 67\n",
      "Temperature in Fahrenheit: 152.6\n"
     ]
    }
   ],
   "source": [
    "celsius = float(input(\"Enter temperature in Celsius: \"))\n",
    "fahrenheit = (celsius * 9/5) + 32\n",
    "print(\"Temperature in Fahrenheit:\", fahrenheit)"
   ]
  },
  {
   "cell_type": "markdown",
   "id": "0ab13bba",
   "metadata": {},
   "source": [
    "# Write a Python function that takes a variable as input and returns the data type of the variable as a string (e.g., “int”, “float”, “str”, “list”, etc.).\n",
    "\n"
   ]
  },
  {
   "cell_type": "code",
   "execution_count": 16,
   "id": "e281baab",
   "metadata": {},
   "outputs": [
    {
     "name": "stdout",
     "output_type": "stream",
     "text": [
      "Enter a variable: 22\n",
      "Data type: int\n"
     ]
    }
   ],
   "source": [
    "def get_data_type(variable):\n",
    "    return type(variable).__name__\n",
    "\n",
    "var = int(input(\"Enter a variable: \"))\n",
    "data_type = get_data_type(var)\n",
    "print(\"Data type:\", data_type)\n"
   ]
  },
  {
   "cell_type": "markdown",
   "id": "9eb23e5a",
   "metadata": {},
   "source": [
    "# Write a Python function to check if a given string is a palindrome or not. "
   ]
  },
  {
   "cell_type": "code",
   "execution_count": 17,
   "id": "d27dbcbf",
   "metadata": {},
   "outputs": [
    {
     "name": "stdout",
     "output_type": "stream",
     "text": [
      "Enter a string: 123456789\n",
      "Not a palindrome\n"
     ]
    }
   ],
   "source": [
    "def is_palindrome(string):\n",
    "    return string == string[::-1]\n",
    "\n",
    "input_string = input(\"Enter a string: \")\n",
    "if is_palindrome(input_string):\n",
    "    print(\"Palindrome\")\n",
    "else:\n",
    "    print(\"Not a palindrome\")\n"
   ]
  },
  {
   "cell_type": "markdown",
   "id": "b1d0f39b",
   "metadata": {},
   "source": [
    "# Write a Python function to reverse a given string using slicing.\n"
   ]
  },
  {
   "cell_type": "code",
   "execution_count": 19,
   "id": "4b6f7a8a",
   "metadata": {},
   "outputs": [
    {
     "name": "stdout",
     "output_type": "stream",
     "text": [
      "Enter a string: 01 9 8 7 6 5 4 3 2 1\n",
      "Reversed string: 1 2 3 4 5 6 7 8 9 10\n"
     ]
    }
   ],
   "source": [
    "def reverse_string(string):\n",
    "    return string[::-1]\n",
    "\n",
    "input_string = input(\"Enter a string: \")\n",
    "reversed_string = reverse_string(input_string)\n",
    "print(\"Reversed string:\", reversed_string)\n"
   ]
  },
  {
   "cell_type": "markdown",
   "id": "90e5de72",
   "metadata": {},
   "source": [
    "#  Write a Python program that takes two strings as input and concatenates them into a single string without using the `+` operator."
   ]
  },
  {
   "cell_type": "code",
   "execution_count": 20,
   "id": "32c61700",
   "metadata": {},
   "outputs": [
    {
     "name": "stdout",
     "output_type": "stream",
     "text": [
      "Enter the first string: Shupan\n",
      "Enter the second string: Khan\n",
      "Concatenated string: ShupanKhan\n"
     ]
    }
   ],
   "source": [
    "string1 = input(\"Enter the first string: \")\n",
    "string2 = input(\"Enter the second string: \")\n",
    "concatenated_string = string1 + string2\n",
    "print(\"Concatenated string:\", concatenated_string)\n"
   ]
  },
  {
   "cell_type": "markdown",
   "id": "4d362269",
   "metadata": {},
   "source": [
    "# : Given three variables: `a = ‘100’`, `b = 25`, and `c = ‘10.5’`, write a Python program to perform the following operations and print the results: – Convert `a` to an integer and add it to `b`. – Convert `c` to a float and subtract it from the result of the first operation. – Convert the final result to a string and concatenate it with the string ” is the answer.”"
   ]
  },
  {
   "cell_type": "code",
   "execution_count": 17,
   "id": "a3bfd477",
   "metadata": {},
   "outputs": [
    {
     "name": "stdout",
     "output_type": "stream",
     "text": [
      "114.5 is the answer.\n"
     ]
    }
   ],
   "source": [
    "a = '100'\n",
    "b = 25\n",
    "c = '10.5'\n",
    "result = int(a) + b - float(c) \n",
    "final_result = str(result) + \" is the answer.\"\n",
    "print(final_result)"
   ]
  },
  {
   "cell_type": "markdown",
   "id": "69c649d7",
   "metadata": {},
   "source": [
    "#  Write a Python program that takes a number as input and prints whether it is positive, negative, or zero.\n"
   ]
  },
  {
   "cell_type": "code",
   "execution_count": 21,
   "id": "8c749ff6",
   "metadata": {},
   "outputs": [
    {
     "name": "stdout",
     "output_type": "stream",
     "text": [
      "Enter a number: -34\n",
      "Negative\n"
     ]
    }
   ],
   "source": [
    "num = float(input(\"Enter a number: \"))\n",
    "\n",
    "if num > 0:\n",
    "    print(\"Positive\")\n",
    "elif num < 0:\n",
    "    print(\"Negative\")\n",
    "else:\n",
    "    print(\"Zero\")"
   ]
  },
  {
   "cell_type": "markdown",
   "id": "f45a4804",
   "metadata": {},
   "source": [
    "# Write a Python program that takes three numbers as input and prints the largest among them."
   ]
  },
  {
   "cell_type": "code",
   "execution_count": 6,
   "id": "06682a47",
   "metadata": {},
   "outputs": [
    {
     "name": "stdout",
     "output_type": "stream",
     "text": [
      "Enter the first number: 23\n",
      "Enter the second number: 34\n",
      "Enter the third number: 54\n",
      "The largest number is: 54\n"
     ]
    }
   ],
   "source": [
    "def find_largest(num1, num2, num3):\n",
    "    largest = max(num1, num2, num3)\n",
    "    print(\"The largest number is:\", largest)\n",
    "num1 = int(input(\"Enter the first number: \"))\n",
    "num2 = int(input(\"Enter the second number: \"))\n",
    "num3 = int(input(\"Enter the third number: \"))\n",
    "find_largest(num1, num2, num3)\n"
   ]
  },
  {
   "cell_type": "markdown",
   "id": "30104557",
   "metadata": {},
   "source": [
    "# Write a Python program that takes a year as input and determines if it is a leap year or not.\n"
   ]
  },
  {
   "cell_type": "code",
   "execution_count": 1,
   "id": "24fd4609",
   "metadata": {},
   "outputs": [
    {
     "name": "stdout",
     "output_type": "stream",
     "text": [
      "Enter a year: 2026\n",
      "Not a leap year\n"
     ]
    }
   ],
   "source": [
    "year = int(input(\"Enter a year: \"))\n",
    "\n",
    "if year % 4 == 0:\n",
    "    if year % 100 == 0:\n",
    "        if year % 400 == 0:\n",
    "            print(\"Leap year\")\n",
    "        else:\n",
    "            print(\"Not a leap year\")\n",
    "    else:\n",
    "        print(\"Leap year\")\n",
    "else:\n",
    "    print(\"Not a leap year\")\n"
   ]
  },
  {
   "cell_type": "markdown",
   "id": "5232666f",
   "metadata": {},
   "source": [
    "# Write a Python program that takes a student’s percentage as input and prints their corresponding grade according to the following criteria: – 90% or above: A+ – 80-89%: A – 70-79%: B – 60-69%: C – Below 60%: Fail "
   ]
  },
  {
   "cell_type": "code",
   "execution_count": 3,
   "id": "a0ecd4ef",
   "metadata": {},
   "outputs": [
    {
     "name": "stdout",
     "output_type": "stream",
     "text": [
      "Enter the percentage: 85\n",
      "Grade: A\n"
     ]
    }
   ],
   "source": [
    "percentage = float(input(\"Enter the percentage: \"))\n",
    "\n",
    "if percentage >= 90:\n",
    "    grade = \"A+\"\n",
    "elif percentage >= 80:\n",
    "    grade = \"A\"\n",
    "elif percentage >= 70:\n",
    "    grade = \"B\"\n",
    "elif percentage >= 60:\n",
    "    grade = \"C\"\n",
    "else:\n",
    "    grade = \"Fail\"\n",
    "\n",
    "print(\"Grade:\", grade)"
   ]
  },
  {
   "cell_type": "markdown",
   "id": "cd6b3375",
   "metadata": {},
   "source": [
    "#  Write a Python program that takes a single character as input and determines whether it is a vowel or a consonant."
   ]
  },
  {
   "cell_type": "code",
   "execution_count": 4,
   "id": "85269ba8",
   "metadata": {},
   "outputs": [
    {
     "name": "stdout",
     "output_type": "stream",
     "text": [
      "Enter a character: g\n",
      "Consonant\n"
     ]
    }
   ],
   "source": [
    "char = input(\"Enter a character: \")\n",
    "\n",
    "if char.lower() in ['a', 'e', 'i', 'o', 'u']:\n",
    "    print(\"Vowel\")\n",
    "else:\n",
    "    print(\"Consonant\")"
   ]
  },
  {
   "cell_type": "markdown",
   "id": "27a000e8",
   "metadata": {},
   "source": [
    "# Write a Python program that takes the time in hours (24-hour format) as input and prints “Good Morning”, “Good Afternoon”, “Good Evening”, or “Good Night” based on the time."
   ]
  },
  {
   "cell_type": "code",
   "execution_count": 22,
   "id": "48f9fa52",
   "metadata": {},
   "outputs": [
    {
     "name": "stdout",
     "output_type": "stream",
     "text": [
      "Enter the time in hours (24-hour format): 20\n",
      "Good Evening\n"
     ]
    }
   ],
   "source": [
    "time = int(input(\"Enter the time in hours (24-hour format): \"))\n",
    "\n",
    "if time < 0 or time > 23:\n",
    "    print(\"Invalid time\")\n",
    "elif time < 12:\n",
    "    print(\"Good Morning\")\n",
    "elif time < 18:\n",
    "    print(\"Good Afternoon\")\n",
    "elif time < 21:\n",
    "    print(\"Good Evening\")\n",
    "else:\n",
    "    print(\"Good Night\")\n"
   ]
  },
  {
   "cell_type": "markdown",
   "id": "69e09f23",
   "metadata": {},
   "source": [
    "#  Write a Python program that takes three sides of a triangle as input and determines whether it forms an equilateral, isosceles, or scalene triangle.\n"
   ]
  },
  {
   "cell_type": "code",
   "execution_count": 23,
   "id": "9cc87ae7",
   "metadata": {},
   "outputs": [
    {
     "name": "stdout",
     "output_type": "stream",
     "text": [
      "Enter the length of side 1: 5\n",
      "Enter the length of side 2: 10\n",
      "Enter the length of side 3: 5\n",
      "Isosceles triangle\n"
     ]
    }
   ],
   "source": [
    "side1 = float(input(\"Enter the length of side 1: \"))\n",
    "side2 = float(input(\"Enter the length of side 2: \"))\n",
    "side3 = float(input(\"Enter the length of side 3: \"))\n",
    "\n",
    "if side1 == side2 == side3:\n",
    "    print(\"Equilateral triangle\")\n",
    "elif side1 == side2 or side1 == side3 or side2 == side3:\n",
    "    print(\"Isosceles triangle\")\n",
    "else:\n",
    "    print(\"Scalene triangle\")"
   ]
  },
  {
   "cell_type": "markdown",
   "id": "c7fe6ee9",
   "metadata": {},
   "source": [
    "# Write a Python program that takes the coefficients (a, b, c) of a quadratic equation as input and calculates and prints the real roots (if they exist) or a message indicating the complex roots."
   ]
  },
  {
   "cell_type": "code",
   "execution_count": 25,
   "id": "5b20e085",
   "metadata": {},
   "outputs": [
    {
     "name": "stdout",
     "output_type": "stream",
     "text": [
      "Enter the coefficient a: 5\n",
      "Enter the coefficient b: 8\n",
      "Enter the coefficient c: 3\n",
      "Real roots:\n",
      "Root 1: (-0.6+0j)\n",
      "Root 2: (-1+0j)\n"
     ]
    }
   ],
   "source": [
    "import cmath\n",
    "\n",
    "a = float(input(\"Enter the coefficient a: \"))\n",
    "b = float(input(\"Enter the coefficient b: \"))\n",
    "c = float(input(\"Enter the coefficient c: \"))\n",
    "\n",
    "discriminant = b**2 - 4*a*c\n",
    "\n",
    "if discriminant > 0:\n",
    "    root1 = (-b + cmath.sqrt(discriminant)) / (2*a)\n",
    "    root2 = (-b - cmath.sqrt(discriminant)) / (2*a)\n",
    "    print(\"Real roots:\")\n",
    "    print(\"Root 1:\", root1)\n",
    "    print(\"Root 2:\", root2)\n",
    "elif discriminant == 0:\n",
    "    root = -b / (2*a)\n",
    "    print(\"Real and equal root:\", root)\n",
    "else:\n",
    "    real_part = -b / (2*a)\n",
    "    imaginary_part = cmath.sqrt(-discriminant) / (2*a)\n",
    "    root1 = complex(real_part, imaginary_part)\n",
    "    root2 = complex(real_part, -imaginary_part)\n",
    "    print(\"Complex roots:\")\n",
    "    print(\"Root 1:\", root1)\n",
    "    print(\"Root 2:\", root2)\n"
   ]
  },
  {
   "cell_type": "markdown",
   "id": "2a3faa52",
   "metadata": {},
   "source": [
    "# Write a Python program that takes an integer as input and prints whether the number falls within the ranges: 0-50, 51-100, 101-150, or above 150. "
   ]
  },
  {
   "cell_type": "code",
   "execution_count": 26,
   "id": "f3497cce",
   "metadata": {},
   "outputs": [
    {
     "name": "stdout",
     "output_type": "stream",
     "text": [
      "Enter a number: 115\n",
      "101-150\n"
     ]
    }
   ],
   "source": [
    "num = int(input(\"Enter a number: \"))\n",
    "\n",
    "if num >= 0 and num <= 50:\n",
    "    print(\"0-50\")\n",
    "elif num >= 51 and num <= 100:\n",
    "    print(\"51-100\")\n",
    "elif num >= 101 and num <= 150:\n",
    "    print(\"101-150\")\n",
    "else:\n",
    "    print(\"Above 150\")\n"
   ]
  },
  {
   "cell_type": "markdown",
   "id": "7cd3df63",
   "metadata": {},
   "source": [
    "#  Write a Python program using a for loop to calculate the sum of the first N natural numbers, where N is taken as input from the user.\n"
   ]
  },
  {
   "cell_type": "code",
   "execution_count": 27,
   "id": "7943ba7d",
   "metadata": {},
   "outputs": [
    {
     "name": "stdout",
     "output_type": "stream",
     "text": [
      "Enter the value of N: 6\n",
      "Sum of first 6 natural numbers: 21\n"
     ]
    }
   ],
   "source": [
    "N = int(input(\"Enter the value of N: \"))\n",
    "sum = 0\n",
    "\n",
    "for i in range(1, N+1):\n",
    "    sum += i\n",
    "\n",
    "print(\"Sum of first\", N, \"natural numbers:\", sum)\n"
   ]
  },
  {
   "cell_type": "markdown",
   "id": "045cf93c",
   "metadata": {},
   "source": [
    "#  Write a Python program using a while loop to calculate the factorial of a given number N."
   ]
  },
  {
   "cell_type": "code",
   "execution_count": 28,
   "id": "e8c8ffe5",
   "metadata": {},
   "outputs": [
    {
     "name": "stdout",
     "output_type": "stream",
     "text": [
      "Enter a number: 13\n",
      "Factorial of 13 is 6227020800\n"
     ]
    }
   ],
   "source": [
    "N = int(input(\"Enter a number: \"))\n",
    "factorial = 1\n",
    "i = 1\n",
    "\n",
    "while i <= N:\n",
    "    factorial *= i\n",
    "    i += 1\n",
    "\n",
    "print(\"Factorial of\", N, \"is\", factorial)\n"
   ]
  },
  {
   "cell_type": "markdown",
   "id": "abf9d5af",
   "metadata": {},
   "source": [
    "#  Write a Python program using a for loop to print the multiplication table of a given number N."
   ]
  },
  {
   "cell_type": "code",
   "execution_count": 29,
   "id": "7e7e779b",
   "metadata": {},
   "outputs": [
    {
     "name": "stdout",
     "output_type": "stream",
     "text": [
      "Enter a number: 5\n",
      "5 x 1 = 5\n",
      "5 x 2 = 10\n",
      "5 x 3 = 15\n",
      "5 x 4 = 20\n",
      "5 x 5 = 25\n",
      "5 x 6 = 30\n",
      "5 x 7 = 35\n",
      "5 x 8 = 40\n",
      "5 x 9 = 45\n",
      "5 x 10 = 50\n"
     ]
    }
   ],
   "source": [
    "N = int(input(\"Enter a number: \"))\n",
    "\n",
    "for i in range(1, 11):\n",
    "    print(N, \"x\", i, \"=\", N*i)"
   ]
  },
  {
   "cell_type": "markdown",
   "id": "d4042393",
   "metadata": {},
   "source": [
    "# Write a Python program using a while loop to count the number of digits in a given integer N. "
   ]
  },
  {
   "cell_type": "code",
   "execution_count": 30,
   "id": "2fccad32",
   "metadata": {},
   "outputs": [
    {
     "name": "stdout",
     "output_type": "stream",
     "text": [
      "Enter a number: 345\n",
      "Number of digits: 3\n"
     ]
    }
   ],
   "source": [
    "N = int(input(\"Enter a number: \"))\n",
    "count = 0\n",
    "\n",
    "while N != 0:\n",
    "    N //= 10\n",
    "    count += 1\n",
    "\n",
    "print(\"Number of digits:\", count)"
   ]
  },
  {
   "cell_type": "markdown",
   "id": "ec991ef5",
   "metadata": {},
   "source": [
    "#  Write a Python program using a for loop to generate the Fibonacci sequence up to a given limit N.\n"
   ]
  },
  {
   "cell_type": "code",
   "execution_count": 31,
   "id": "3e00a8fe",
   "metadata": {},
   "outputs": [
    {
     "name": "stdout",
     "output_type": "stream",
     "text": [
      "Enter the limit N for Fibonacci sequence: 8\n",
      "0 1 1 2 3 5 8 13 "
     ]
    }
   ],
   "source": [
    "N = int(input(\"Enter the limit N for Fibonacci sequence: \"))\n",
    "a, b = 0, 1\n",
    "for _ in range(N):\n",
    "    print(a, end=\" \")\n",
    "    a, b = b, a + b\n"
   ]
  },
  {
   "cell_type": "markdown",
   "id": "cd97d8ee",
   "metadata": {},
   "source": [
    "# Write a Python program using a while loop to calculate the sum of all even numbers between 1 and N, where N is taken as input from the user.\n"
   ]
  },
  {
   "cell_type": "code",
   "execution_count": 32,
   "id": "d5f9cdc2",
   "metadata": {},
   "outputs": [
    {
     "name": "stdout",
     "output_type": "stream",
     "text": [
      "Enter a number: 18\n",
      "Sum of even numbers between 1 and 18 : 90\n"
     ]
    }
   ],
   "source": [
    "N = int(input(\"Enter a number: \"))\n",
    "sum = 0\n",
    "i = 2\n",
    "\n",
    "while i <= N:\n",
    "    sum += i\n",
    "    i += 2\n",
    "\n",
    "print(\"Sum of even numbers between 1 and\", N, \":\", sum)\n"
   ]
  },
  {
   "cell_type": "markdown",
   "id": "c9f3e9a2",
   "metadata": {},
   "source": [
    "#  Write a Python program using nested for loops to print various patterns, such as a right-angled triangle, an inverted right-angled triangle, and so on."
   ]
  },
  {
   "cell_type": "code",
   "execution_count": 33,
   "id": "67ee240a",
   "metadata": {},
   "outputs": [
    {
     "name": "stdout",
     "output_type": "stream",
     "text": [
      "Enter the number of rows: 5\n",
      "Right-angled Triangle:\n",
      "S\n",
      "SS\n",
      "SSS\n",
      "SSSS\n",
      "SSSSS\n",
      "Inverted Right-angled Triangle:\n",
      "SSSSS\n",
      "SSSS\n",
      "SSS\n",
      "SS\n",
      "S\n"
     ]
    }
   ],
   "source": [
    "rows = int(input(\"Enter the number of rows: \"))\n",
    "\n",
    "print(\"Right-angled Triangle:\")\n",
    "for i in range(1, rows+1):\n",
    "    print(\"S\" * i)\n",
    "\n",
    "print(\"Inverted Right-angled Triangle:\")\n",
    "for i in range(rows, 0, -1):\n",
    "    print(\"S\" * i)\n"
   ]
  },
  {
   "cell_type": "markdown",
   "id": "703887bc",
   "metadata": {},
   "source": [
    "# Write a Python program using a while loop to check if a given number N is prime or not."
   ]
  },
  {
   "cell_type": "code",
   "execution_count": 34,
   "id": "9df1f2d8",
   "metadata": {},
   "outputs": [
    {
     "name": "stdout",
     "output_type": "stream",
     "text": [
      "Enter a number: 5\n",
      "5 is a prime number.\n"
     ]
    }
   ],
   "source": [
    "N = int(input(\"Enter a number: \"))\n",
    "is_prime = True\n",
    "i = 2\n",
    "\n",
    "while i <= N // 2:\n",
    "    if N % i == 0:\n",
    "        is_prime = False\n",
    "        break\n",
    "    i += 1\n",
    "\n",
    "if is_prime:\n",
    "    print(N, \"is a prime number.\")\n",
    "else:\n",
    "    print(N, \"is not a prime number.\")\n"
   ]
  },
  {
   "cell_type": "markdown",
   "id": "062fbca1",
   "metadata": {},
   "source": [
    "# Given a list of integers, write a Python program using a for loop to find the sum, average, maximum, and minimum values in the list.\n"
   ]
  },
  {
   "cell_type": "code",
   "execution_count": 35,
   "id": "e40b5368",
   "metadata": {},
   "outputs": [
    {
     "name": "stdout",
     "output_type": "stream",
     "text": [
      "Sum: 120\n",
      "Average: 8.0\n",
      "Maximum: 15\n",
      "Minimum: 1\n"
     ]
    }
   ],
   "source": [
    "numbers = [1,2,3,4,5,6,7,8,9,10,11,12,13,14,15]\n",
    "sum = 0\n",
    "average = 0\n",
    "maximum = numbers[0]\n",
    "minimum = numbers[0]\n",
    "\n",
    "for num in numbers:\n",
    "    sum += num\n",
    "    if num > maximum:\n",
    "        maximum = num\n",
    "    if num < minimum:\n",
    "        minimum = num\n",
    "\n",
    "average = sum / len(numbers)\n",
    "\n",
    "print(\"Sum:\", sum)\n",
    "print(\"Average:\", average)\n",
    "print(\"Maximum:\", maximum)\n",
    "print(\"Minimum:\", minimum)\n"
   ]
  },
  {
   "cell_type": "markdown",
   "id": "9ea10ab3",
   "metadata": {},
   "source": [
    "#  Write a Python program using a while loop to reverse a given string.\n"
   ]
  },
  {
   "cell_type": "code",
   "execution_count": 36,
   "id": "c57ea3eb",
   "metadata": {},
   "outputs": [
    {
     "name": "stdout",
     "output_type": "stream",
     "text": [
      "Enter a string: Lionel Messi 10\n",
      "Reversed string: 01 isseM lenoiL\n"
     ]
    }
   ],
   "source": [
    "string = input(\"Enter a string: \")\n",
    "reversed_string = \"\"\n",
    "\n",
    "i = len(string) - 1\n",
    "\n",
    "while i >= 0:\n",
    "    reversed_string += string[i]\n",
    "    i -= 1\n",
    "\n",
    "print(\"Reversed string:\", reversed_string)"
   ]
  },
  {
   "cell_type": "markdown",
   "id": "97279df1",
   "metadata": {},
   "source": [
    "#  Write a Python program using nested loops to print the multiplication table from 1 to 10."
   ]
  },
  {
   "cell_type": "code",
   "execution_count": 13,
   "id": "e859f3de",
   "metadata": {},
   "outputs": [
    {
     "name": "stdout",
     "output_type": "stream",
     "text": [
      "1\t2\t3\t4\t5\t6\t7\t8\t9\t10\t\n",
      "2\t4\t6\t8\t10\t12\t14\t16\t18\t20\t\n",
      "3\t6\t9\t12\t15\t18\t21\t24\t27\t30\t\n",
      "4\t8\t12\t16\t20\t24\t28\t32\t36\t40\t\n",
      "5\t10\t15\t20\t25\t30\t35\t40\t45\t50\t\n",
      "6\t12\t18\t24\t30\t36\t42\t48\t54\t60\t\n",
      "7\t14\t21\t28\t35\t42\t49\t56\t63\t70\t\n",
      "8\t16\t24\t32\t40\t48\t56\t64\t72\t80\t\n",
      "9\t18\t27\t36\t45\t54\t63\t72\t81\t90\t\n",
      "10\t20\t30\t40\t50\t60\t70\t80\t90\t100\t\n"
     ]
    }
   ],
   "source": [
    "for i in range(1, 11):\n",
    "    for j in range(1, 11):\n",
    "        print(i * j, end=\"\\t\")\n",
    "    print()"
   ]
  },
  {
   "cell_type": "markdown",
   "id": "b7b78019",
   "metadata": {},
   "source": [
    "# Write a Python program using nested loops to print the following pattern:\n",
    "\n",
    "*\n",
    "\n",
    "**\n",
    "\n",
    "***\n",
    "\n",
    "****\n",
    "\n",
    "*****"
   ]
  },
  {
   "cell_type": "code",
   "execution_count": 37,
   "id": "5df27c97",
   "metadata": {},
   "outputs": [
    {
     "name": "stdout",
     "output_type": "stream",
     "text": [
      "#\n",
      "##\n",
      "###\n",
      "####\n",
      "#####\n"
     ]
    }
   ],
   "source": [
    "for i in range(1, 6):\n",
    "    for j in range(i):\n",
    "        print(\"#\", end=\"\")\n",
    "    print()"
   ]
  },
  {
   "cell_type": "markdown",
   "id": "4c4e8788",
   "metadata": {},
   "source": [
    "#  Write a Python program using nested loops to multiply two matrices."
   ]
  },
  {
   "cell_type": "code",
   "execution_count": 12,
   "id": "a7b05f8f",
   "metadata": {},
   "outputs": [
    {
     "name": "stdout",
     "output_type": "stream",
     "text": [
      "[30, 24, 18]\n",
      "[84, 69, 54]\n",
      "[138, 114, 90]\n"
     ]
    }
   ],
   "source": [
    "matrix1 = [[1, 2, 3],\n",
    "           [4, 5, 6],\n",
    "           [7, 8, 9]]\n",
    "\n",
    "matrix2 = [[9, 8, 7],\n",
    "           [6, 5, 4],\n",
    "           [3, 2, 1]]\n",
    "\n",
    "result = [[0, 0, 0],\n",
    "          [0, 0, 0],\n",
    "          [0, 0, 0]]\n",
    "\n",
    "for i in range(len(matrix1)):\n",
    "    for j in range(len(matrix2[0])):\n",
    "        for k in range(len(matrix2)):\n",
    "            result[i][j] += matrix1[i][k] * matrix2[k][j]\n",
    "\n",
    "for row in result:\n",
    "    print(row)\n"
   ]
  },
  {
   "cell_type": "markdown",
   "id": "fb45b1f0",
   "metadata": {},
   "source": [
    "# Write a Python program using nested loops to print a chessboard pattern (alternating “X” and “O” characters) of size 8×8.34. "
   ]
  },
  {
   "cell_type": "code",
   "execution_count": 38,
   "id": "d131f0de",
   "metadata": {},
   "outputs": [
    {
     "name": "stdout",
     "output_type": "stream",
     "text": [
      "B W B W B W B W \n",
      "W B W B W B W B \n",
      "B W B W B W B W \n",
      "W B W B W B W B \n",
      "B W B W B W B W \n",
      "W B W B W B W B \n",
      "B W B W B W B W \n",
      "W B W B W B W B \n"
     ]
    }
   ],
   "source": [
    "for i in range(8):\n",
    "    for j in range(8):\n",
    "        if (i + j) % 2 == 0:\n",
    "            print(\"B\", end=\" \")\n",
    "        else:\n",
    "            print(\"W\", end=\" \")\n",
    "    print()\n"
   ]
  },
  {
   "cell_type": "markdown",
   "id": "bbaf6917",
   "metadata": {},
   "source": [
    "# Write a Python program using nested loops to print a number pyramid like the following: 1 22 333 4444 55555"
   ]
  },
  {
   "cell_type": "code",
   "execution_count": 18,
   "id": "cb60f0a2",
   "metadata": {},
   "outputs": [
    {
     "name": "stdout",
     "output_type": "stream",
     "text": [
      "1 \n",
      "2 2 \n",
      "3 3 3 \n",
      "4 4 4 4 \n",
      "5 5 5 5 5 \n"
     ]
    }
   ],
   "source": [
    "for i in range(1, 6):\n",
    "    for j in range(i):\n",
    "        print(i, end=\" \")\n",
    "    print()\n"
   ]
  },
  {
   "cell_type": "markdown",
   "id": "f04bcb25",
   "metadata": {},
   "source": [
    "# Write a Python program to find the sum of all elements in a given list of integers"
   ]
  },
  {
   "cell_type": "code",
   "execution_count": 39,
   "id": "0040681c",
   "metadata": {},
   "outputs": [
    {
     "name": "stdout",
     "output_type": "stream",
     "text": [
      "10\n"
     ]
    }
   ],
   "source": [
    "def sum_of_list(num_list: list):\n",
    "    for num in num_list:\n",
    "        sum = num + num\n",
    "    print(sum)\n",
    "\n",
    "\n",
    "num_list = [1, 2, 3, 4, 5]\n",
    "sum_of_list(num_list)"
   ]
  },
  {
   "cell_type": "markdown",
   "id": "c5b577c8",
   "metadata": {},
   "source": [
    "# Write a Python program to calculate the average of all elements in a given list of integers."
   ]
  },
  {
   "cell_type": "code",
   "execution_count": 1,
   "id": "2188334f",
   "metadata": {},
   "outputs": [
    {
     "name": "stdout",
     "output_type": "stream",
     "text": [
      "The average of the list is  30.0\n"
     ]
    }
   ],
   "source": [
    "def calc_average(lst):  \n",
    "    return sum(lst) / len(lst)  \n",
    "lst = [10, 20, 30, 40, 50]  \n",
    "average = calc_average(lst)   \n",
    "print(\"The average of the list is \", round(average, 3))\n"
   ]
  },
  {
   "cell_type": "markdown",
   "id": "862dd944",
   "metadata": {},
   "source": [
    "# Write a Python program to find the maximum and minimum values in a given list of integers.\n"
   ]
  },
  {
   "cell_type": "code",
   "execution_count": 35,
   "id": "dd31cf53",
   "metadata": {},
   "outputs": [
    {
     "name": "stdout",
     "output_type": "stream",
     "text": [
      "Max: 5\n",
      "Min: 1\n"
     ]
    }
   ],
   "source": [
    "def list_max_min(lst):\n",
    "    return max(lst), min(lst)\n",
    "my_list = [1, 2, 3, 4, 5]\n",
    "max_value, min_value = list_max_min(my_list)\n",
    "print(\"Max:\", max_value)\n",
    "print(\"Min:\", min_value)\n"
   ]
  },
  {
   "cell_type": "markdown",
   "id": "4d617691",
   "metadata": {},
   "source": [
    "# write a Python program to sort a list of integers in ascending order."
   ]
  },
  {
   "cell_type": "code",
   "execution_count": 36,
   "id": "f57a0213",
   "metadata": {},
   "outputs": [
    {
     "name": "stdout",
     "output_type": "stream",
     "text": [
      "[1, 2, 3, 4, 5]\n"
     ]
    }
   ],
   "source": [
    "def list_sort(lst):\n",
    "    return sorted(lst)\n",
    "my_list = [5, 3, 1, 4, 2]\n",
    "print(list_sort(my_list))"
   ]
  },
  {
   "cell_type": "markdown",
   "id": "8dfac874",
   "metadata": {},
   "source": [
    "# Given a list of integers, write a Python program to create a new list that contains only the even numbers from the original list.\n"
   ]
  },
  {
   "cell_type": "code",
   "execution_count": 37,
   "id": "14a105d2",
   "metadata": {},
   "outputs": [
    {
     "name": "stdout",
     "output_type": "stream",
     "text": [
      "[2, 4]\n"
     ]
    }
   ],
   "source": [
    "def list_filter_even(lst):\n",
    "    return [num for num in lst if num % 2 == 0]\n",
    "my_list = [1, 2, 3, 4, 5]\n",
    "print(list_filter_even(my_list))\n"
   ]
  },
  {
   "cell_type": "markdown",
   "id": "a2ec5cba",
   "metadata": {},
   "source": [
    "# Write a Python program to reverse a given list without using any built-in functions.\n"
   ]
  },
  {
   "cell_type": "code",
   "execution_count": 38,
   "id": "d1c4d37f",
   "metadata": {},
   "outputs": [
    {
     "name": "stdout",
     "output_type": "stream",
     "text": [
      "[5, 4, 3, 2, 1]\n"
     ]
    }
   ],
   "source": [
    "def list_reverse(lst):\n",
    "    return lst[::-1]\n",
    "my_list = [1, 2, 3, 4, 5]\n",
    "print(list_reverse(my_list))\n"
   ]
  },
  {
   "cell_type": "markdown",
   "id": "95d83103",
   "metadata": {},
   "source": [
    "# Given two lists of integers, write a Python program to create a new list that contains elements common to both lists."
   ]
  },
  {
   "cell_type": "code",
   "execution_count": 39,
   "id": "f7c653b0",
   "metadata": {},
   "outputs": [
    {
     "name": "stdout",
     "output_type": "stream",
     "text": [
      "[4, 5]\n"
     ]
    }
   ],
   "source": [
    "def list_common_elements(lst1, lst2):\n",
    "    return list(set(lst1) & set(lst2))\n",
    "list1 = [1, 2, 3, 4, 5]\n",
    "list2 = [4, 5, 6, 7, 8]\n",
    "print(list_common_elements(list1, list2))"
   ]
  },
  {
   "cell_type": "markdown",
   "id": "4b893aaf",
   "metadata": {},
   "source": [
    "# Write a Python program to count the occurrences of a specific element in a given list.\n"
   ]
  },
  {
   "cell_type": "code",
   "execution_count": 40,
   "id": "4623f487",
   "metadata": {},
   "outputs": [
    {
     "name": "stdout",
     "output_type": "stream",
     "text": [
      "3\n"
     ]
    }
   ],
   "source": [
    "def list_element_count(lst, element):\n",
    "    return lst.count(element)\n",
    "my_list = [1, 2, 3, 4, 5, 4, 4]\n",
    "print(list_element_count(my_list, 4))"
   ]
  },
  {
   "cell_type": "markdown",
   "id": "b00f3888",
   "metadata": {},
   "source": [
    "# Write a Python program to remove duplicates from a given list while preserving the order of the elements."
   ]
  },
  {
   "cell_type": "code",
   "execution_count": 41,
   "id": "31f2d974",
   "metadata": {},
   "outputs": [
    {
     "name": "stdout",
     "output_type": "stream",
     "text": [
      "[1, 2, 3, 4, 5]\n"
     ]
    }
   ],
   "source": [
    "def list_remove_duplicates(lst):\n",
    "    return list(dict.fromkeys(lst))\n",
    "my_list = [1, 2, 3, 2, 4, 3, 5]\n",
    "print(list_remove_duplicates(my_list))"
   ]
  },
  {
   "cell_type": "markdown",
   "id": "106c4c36",
   "metadata": {},
   "source": [
    "# Given a list of integers, write a Python program to create a new list that contains the squares of the elements using list comprehension."
   ]
  },
  {
   "cell_type": "code",
   "execution_count": 42,
   "id": "67bed478",
   "metadata": {},
   "outputs": [
    {
     "name": "stdout",
     "output_type": "stream",
     "text": [
      "[1, 4, 9, 16, 25]\n"
     ]
    }
   ],
   "source": [
    "def list_square_elements(lst):\n",
    "    return [num**2 for num in lst]\n",
    "my_list = [1, 2, 3, 4, 5]\n",
    "print(list_square_elements(my_list))\n"
   ]
  },
  {
   "cell_type": "markdown",
   "id": "314fd8c3",
   "metadata": {},
   "source": [
    "# Write a Python program to add two matrices represented as nested lists."
   ]
  },
  {
   "cell_type": "code",
   "execution_count": 47,
   "id": "b04c68c6",
   "metadata": {},
   "outputs": [
    {
     "name": "stdout",
     "output_type": "stream",
     "text": [
      "[[10, 10, 10], [10, 10, 10], [10, 10, 10]]\n"
     ]
    }
   ],
   "source": [
    "def matrix_addition(matrix1, matrix2):\n",
    "    result = []\n",
    "    for i in range(len(matrix1)):\n",
    "        row = []\n",
    "        for j in range(len(matrix1[i])):\n",
    "            row.append(matrix1[i][j] + matrix2[i][j])\n",
    "        result.append(row)\n",
    "    return result\n",
    "matrix1 = [[1, 2, 3], [4, 5, 6], [7, 8, 9]]\n",
    "matrix2 = [[9, 8, 7], [6, 5, 4], [3, 2, 1]]\n",
    "result = matrix_addition(matrix1, matrix2)\n",
    "print(result)"
   ]
  },
  {
   "cell_type": "markdown",
   "id": "97fd8868",
   "metadata": {},
   "source": [
    "# Write a Python program to flatten a given nested list and convert it into a single-dimensional list."
   ]
  },
  {
   "cell_type": "code",
   "execution_count": 1,
   "id": "59a6f5ae",
   "metadata": {},
   "outputs": [
    {
     "name": "stdout",
     "output_type": "stream",
     "text": [
      "[1, 2, 3, 4, 5, 6, 7]\n"
     ]
    }
   ],
   "source": [
    "def flatten_list(nested_list):\n",
    "    result = []\n",
    "    for sublist in nested_list:\n",
    "        if isinstance(sublist, list):\n",
    "            result.extend(flatten_list(sublist))\n",
    "        else:\n",
    "            result.append(sublist)\n",
    "    return result\n",
    "\n",
    "# Example usage\n",
    "nested_list = [[1, 2, [3]], [4, [5, 6]], 7]\n",
    "result = flatten_list(nested_list)\n",
    "print(result)\n"
   ]
  },
  {
   "cell_type": "markdown",
   "id": "cf2cf53f",
   "metadata": {},
   "source": [
    "# Given a nested list containing lists of integers, write a Python program to count the frequency of each element in the entire nested list."
   ]
  },
  {
   "cell_type": "code",
   "execution_count": 2,
   "id": "c42159c0",
   "metadata": {},
   "outputs": [
    {
     "name": "stdout",
     "output_type": "stream",
     "text": [
      "{1: 2, 2: 2, 3: 2, 4: 1, 5: 1, 6: 1}\n"
     ]
    }
   ],
   "source": [
    "def count_element_frequency(nested_list):\n",
    "    frequency = {}\n",
    "    for sublist in nested_list:\n",
    "        for element in sublist:\n",
    "            if element in frequency:\n",
    "                frequency[element] += 1\n",
    "            else:\n",
    "                frequency[element] = 1\n",
    "    return frequency\n",
    "nested_list = [[1, 2, 3], [4, 5, 6], [1, 2, 3]]\n",
    "result = count_element_frequency(nested_list)\n",
    "print(result)\n"
   ]
  },
  {
   "cell_type": "markdown",
   "id": "ca00d44d",
   "metadata": {},
   "source": [
    "# Write a Python program to transpose a given matrix represented as a nested list.\n"
   ]
  },
  {
   "cell_type": "code",
   "execution_count": 3,
   "id": "d1eb86d8",
   "metadata": {},
   "outputs": [
    {
     "name": "stdout",
     "output_type": "stream",
     "text": [
      "[[1, 4, 7], [2, 5, 8], [3, 6, 9]]\n"
     ]
    }
   ],
   "source": [
    "def transpose_matrix(matrix):\n",
    "    result = []\n",
    "    for i in range(len(matrix[0])):\n",
    "        row = []\n",
    "        for j in range(len(matrix)):\n",
    "            row.append(matrix[j][i])\n",
    "        result.append(row)\n",
    "    return result\n",
    "matrix = [[1, 2, 3], [4, 5, 6], [7, 8, 9]]\n",
    "result = transpose_matrix(matrix)\n",
    "print(result)"
   ]
  },
  {
   "cell_type": "markdown",
   "id": "f55f42e0",
   "metadata": {},
   "source": [
    "# Given a list of nested lists, write a Python program to concatenate all the sublists into a single flat list."
   ]
  },
  {
   "cell_type": "code",
   "execution_count": 4,
   "id": "b691aa21",
   "metadata": {},
   "outputs": [
    {
     "name": "stdout",
     "output_type": "stream",
     "text": [
      "[1, 2, 3, 4, 5, 6, 7, 8, 9]\n"
     ]
    }
   ],
   "source": [
    "def concatenate_lists(nested_list):\n",
    "    result = []\n",
    "    for sublist in nested_list:\n",
    "        result.extend(sublist)\n",
    "    return result\n",
    "nested_list = [[1, 2, 3], [4, 5, 6], [7, 8, 9]]\n",
    "result = concatenate_lists(nested_list)\n",
    "print(result)"
   ]
  },
  {
   "cell_type": "markdown",
   "id": "bfbdb5fe",
   "metadata": {},
   "source": [
    "# Write a Python program to concatenate two tuples and create a new tuple."
   ]
  },
  {
   "cell_type": "code",
   "execution_count": 1,
   "id": "b4fe3e77",
   "metadata": {},
   "outputs": [
    {
     "name": "stdout",
     "output_type": "stream",
     "text": [
      "(1, 2, 3, 4, 5, 6)\n"
     ]
    }
   ],
   "source": [
    "tuple1 = (1, 2, 3)\n",
    "tuple2 = (4, 5, 6)\n",
    "concatenated_tuple = tuple1 + tuple2\n",
    "print(concatenated_tuple)  "
   ]
  },
  {
   "cell_type": "markdown",
   "id": "f7f502fb",
   "metadata": {},
   "source": [
    "# Given a tuple with three elements (x, y, z), write a Python program to unpack the tuple and assign the values to three variables."
   ]
  },
  {
   "cell_type": "code",
   "execution_count": 2,
   "id": "acb99a96",
   "metadata": {},
   "outputs": [
    {
     "name": "stdout",
     "output_type": "stream",
     "text": [
      "1 2 3\n"
     ]
    }
   ],
   "source": [
    "tuple1 = (1, 2, 3)\n",
    "x, y, z = tuple1\n",
    "print(x, y, z)"
   ]
  },
  {
   "cell_type": "markdown",
   "id": "afbe3cf6",
   "metadata": {},
   "source": [
    "# Write a Python program to sort a tuple of integers in ascending order."
   ]
  },
  {
   "cell_type": "code",
   "execution_count": 3,
   "id": "c3b250b6",
   "metadata": {},
   "outputs": [
    {
     "name": "stdout",
     "output_type": "stream",
     "text": [
      "(1, 2, 3)\n"
     ]
    }
   ],
   "source": [
    "tuple1 = (3, 1, 2)\n",
    "sorted_tuple = tuple(sorted(tuple1))\n",
    "print(sorted_tuple)"
   ]
  },
  {
   "cell_type": "markdown",
   "id": "5dc3f4e9",
   "metadata": {},
   "source": [
    "# Given a tuple containing various elements, write a Python program to count the frequency of a specific element in the tuple."
   ]
  },
  {
   "cell_type": "code",
   "execution_count": 4,
   "id": "8bfdd702",
   "metadata": {},
   "outputs": [
    {
     "name": "stdout",
     "output_type": "stream",
     "text": [
      "3\n"
     ]
    }
   ],
   "source": [
    "tuple1 = (1, 2, 2, 3, 3, 3)\n",
    "element = 3\n",
    "frequency = tuple1.count(element)\n",
    "print(frequency)"
   ]
  },
  {
   "cell_type": "markdown",
   "id": "40fb896b",
   "metadata": {},
   "source": [
    "# Write a Python program to convert a tuple into a list."
   ]
  },
  {
   "cell_type": "code",
   "execution_count": 5,
   "id": "be6662bd",
   "metadata": {},
   "outputs": [
    {
     "name": "stdout",
     "output_type": "stream",
     "text": [
      "[1, 2, 3]\n"
     ]
    }
   ],
   "source": [
    "tuple1 = (1, 2, 3)\n",
    "list1 = list(tuple1)\n",
    "print(list1)"
   ]
  },
  {
   "cell_type": "markdown",
   "id": "8db5fa77",
   "metadata": {},
   "source": [
    "# Write a Python program to reverse a tuple without using any built-in functions."
   ]
  },
  {
   "cell_type": "code",
   "execution_count": 6,
   "id": "39df4c9a",
   "metadata": {},
   "outputs": [
    {
     "name": "stdout",
     "output_type": "stream",
     "text": [
      "(3, 2, 1)\n"
     ]
    }
   ],
   "source": [
    "tuple1 = (1, 2, 3)\n",
    "reversed_tuple = tuple1[::-1]\n",
    "print(reversed_tuple)"
   ]
  },
  {
   "cell_type": "markdown",
   "id": "6cc9eac2",
   "metadata": {},
   "source": [
    "# Given a tuple, write a Python program to extract a slice of elements from it."
   ]
  },
  {
   "cell_type": "code",
   "execution_count": 7,
   "id": "3f6e046c",
   "metadata": {},
   "outputs": [
    {
     "name": "stdout",
     "output_type": "stream",
     "text": [
      "(2, 3, 4)\n"
     ]
    }
   ],
   "source": [
    "tuple1 = (1, 2, 3, 4, 5)\n",
    "slice_tuple = tuple1[1:4]\n",
    "print(slice_tuple)"
   ]
  },
  {
   "cell_type": "markdown",
   "id": "573e20b7",
   "metadata": {},
   "source": [
    "# Given two tuples of integers, write a Python program to perform element-wise addition, subtraction, and multiplication and create new tuples for each operation."
   ]
  },
  {
   "cell_type": "code",
   "execution_count": 8,
   "id": "0c7608e7",
   "metadata": {},
   "outputs": [
    {
     "name": "stdout",
     "output_type": "stream",
     "text": [
      "(5, 7, 9)\n",
      "(-3, -3, -3)\n",
      "(4, 10, 18)\n"
     ]
    }
   ],
   "source": [
    "tuple1 = (1, 2, 3)\n",
    "tuple2 = (4, 5, 6)\n",
    "addition_tuple = tuple(x + y for x, y in zip(tuple1, tuple2))\n",
    "subtraction_tuple = tuple(x - y for x, y in zip(tuple1, tuple2))\n",
    "multiplication_tuple = tuple(x * y for x, y in zip(tuple1, tuple2))\n",
    "print(addition_tuple)\n",
    "print(subtraction_tuple)\n",
    "print(multiplication_tuple)"
   ]
  },
  {
   "cell_type": "markdown",
   "id": "33b6eb3b",
   "metadata": {},
   "source": [
    "# Write a Python program that takes an element as input and checks if it exists in a given tuple."
   ]
  },
  {
   "cell_type": "code",
   "execution_count": 9,
   "id": "ec793254",
   "metadata": {},
   "outputs": [
    {
     "name": "stdout",
     "output_type": "stream",
     "text": [
      "Element exists in the tuple\n"
     ]
    }
   ],
   "source": [
    "tuple1 = (1, 2, 3)\n",
    "element = 2\n",
    "if element in tuple1:\n",
    "    print(\"Element exists in the tuple\")\n",
    "else:\n",
    "    print(\"Element does not exist in the tuple\")"
   ]
  },
  {
   "cell_type": "markdown",
   "id": "e9a73011",
   "metadata": {},
   "source": [
    "# Write a Python program to pack three variables into a single tuple and print the tuple."
   ]
  },
  {
   "cell_type": "code",
   "execution_count": 10,
   "id": "9aa1af7d",
   "metadata": {},
   "outputs": [
    {
     "name": "stdout",
     "output_type": "stream",
     "text": [
      "(1, 2, 3)\n"
     ]
    }
   ],
   "source": [
    "x = 1\n",
    "y = 2\n",
    "z = 3\n",
    "packed_tuple = (x, y, z)\n",
    "print(packed_tuple)"
   ]
  },
  {
   "cell_type": "markdown",
   "id": "eaf19bf6",
   "metadata": {},
   "source": [
    "# Given a nested list, write a Python program to access and print specific elements from it."
   ]
  },
  {
   "cell_type": "code",
   "execution_count": 11,
   "id": "1abd1852",
   "metadata": {},
   "outputs": [
    {
     "name": "stdout",
     "output_type": "stream",
     "text": [
      "6\n"
     ]
    }
   ],
   "source": [
    "nested_list = [[1, 2, 3], [4, 5, 6], [7, 8, 9]]\n",
    "print(nested_list[1][2]) "
   ]
  },
  {
   "cell_type": "markdown",
   "id": "7122d4ce",
   "metadata": {},
   "source": [
    "# Write a Python program to flatten a nested list and convert it into a single-dimensional list."
   ]
  },
  {
   "cell_type": "code",
   "execution_count": 12,
   "id": "f214d740",
   "metadata": {},
   "outputs": [
    {
     "name": "stdout",
     "output_type": "stream",
     "text": [
      "[1, 2, 3, 4, 5, 6, 7, 8, 9]\n"
     ]
    }
   ],
   "source": [
    "nested_list = [[1, 2, 3], [4, 5, 6], [7, 8, 9]]\n",
    "flattened_list = [item for sublist in nested_list for item in sublist]\n",
    "print(flattened_list)"
   ]
  },
  {
   "cell_type": "markdown",
   "id": "60dd58b4",
   "metadata": {},
   "source": [
    "# Given a nested list containing lists of integers, write a Python program to sort the sublists based on their lengths."
   ]
  },
  {
   "cell_type": "code",
   "execution_count": 13,
   "id": "b22048fc",
   "metadata": {},
   "outputs": [
    {
     "name": "stdout",
     "output_type": "stream",
     "text": [
      "[[1, 2], [4, 5, 6], [7, 8, 9, 10]]\n"
     ]
    }
   ],
   "source": [
    "nested_list = [[4, 5, 6], [1, 2], [7, 8, 9, 10]]\n",
    "sorted_list = sorted(nested_list, key=len)\n",
    "print(sorted_list)"
   ]
  },
  {
   "cell_type": "markdown",
   "id": "84b053f1",
   "metadata": {},
   "source": [
    "# Given a nested list containing tuples of (x, y) coordinates, write a Python program to convert it into a list of x-coordinates and a list of y-coordinates."
   ]
  },
  {
   "cell_type": "code",
   "execution_count": 14,
   "id": "3b250069",
   "metadata": {},
   "outputs": [
    {
     "name": "stdout",
     "output_type": "stream",
     "text": [
      "[1, 3, 5]\n",
      "[2, 4, 6]\n"
     ]
    }
   ],
   "source": [
    "nested_list = [(1, 2), (3, 4), (5, 6)]\n",
    "x_coordinates = [x for x, y in nested_list]\n",
    "y_coordinates = [y for x, y in nested_list]\n",
    "print(x_coordinates)\n",
    "print(y_coordinates)"
   ]
  },
  {
   "cell_type": "markdown",
   "id": "24a71be9",
   "metadata": {},
   "source": [
    "# Write a Python program to transpose a given matrix represented as a nested list."
   ]
  },
  {
   "cell_type": "code",
   "execution_count": 15,
   "id": "7a0834d6",
   "metadata": {},
   "outputs": [
    {
     "name": "stdout",
     "output_type": "stream",
     "text": [
      "[[1, 4, 7], [2, 5, 8], [3, 6, 9]]\n"
     ]
    }
   ],
   "source": [
    "matrix = [[1, 2, 3], [4, 5, 6], [7, 8, 9]]\n",
    "transposed_matrix = [[row[i] for row in matrix] for i in range(len(matrix[0]))]\n",
    "print(transposed_matrix)"
   ]
  },
  {
   "cell_type": "markdown",
   "id": "13cd9403",
   "metadata": {},
   "source": [
    "# Given a list of nested lists, write a Python program to concatenate all the sublists into a single flat list."
   ]
  },
  {
   "cell_type": "code",
   "execution_count": 16,
   "id": "a6670b5b",
   "metadata": {},
   "outputs": [
    {
     "name": "stdout",
     "output_type": "stream",
     "text": [
      "[1, 2, 3, 4, 5, 6, 7, 8, 9]\n"
     ]
    }
   ],
   "source": [
    "nested_list = [[1, 2, 3], [4, 5, 6], [7, 8, 9]]\n",
    "concatenated_list = [item for sublist in nested_list for item in sublist]\n",
    "print(concatenated_list)"
   ]
  },
  {
   "cell_type": "markdown",
   "id": "ff0a6352",
   "metadata": {},
   "source": [
    "# Write a Python program to count the number of even numbers in a nested list."
   ]
  },
  {
   "cell_type": "code",
   "execution_count": 17,
   "id": "787ee4cf",
   "metadata": {},
   "outputs": [
    {
     "name": "stdout",
     "output_type": "stream",
     "text": [
      "4\n"
     ]
    }
   ],
   "source": [
    "nested_list = [[1, 2, 3], [4, 5, 6], [7, 8, 9]]\n",
    "even_count = sum(1 for sublist in nested_list for item in sublist if item % 2 == 0)\n",
    "print(even_count)"
   ]
  },
  {
   "cell_type": "markdown",
   "id": "93b96b5f",
   "metadata": {},
   "source": [
    "# Write a Python program to find the maximum element in a nested list of integers."
   ]
  },
  {
   "cell_type": "code",
   "execution_count": 18,
   "id": "b15e6b61",
   "metadata": {},
   "outputs": [
    {
     "name": "stdout",
     "output_type": "stream",
     "text": [
      "9\n"
     ]
    }
   ],
   "source": [
    "nested_list = [[1, 2, 3], [4, 5, 6], [7, 8, 9]]\n",
    "max_element = max(item for sublist in nested_list for item in sublist)\n",
    "print(max_element)"
   ]
  },
  {
   "cell_type": "markdown",
   "id": "83c41055",
   "metadata": {},
   "source": [
    "# Given a square matrix represented as a nested list, write a Python program to calculate the sum of the elements in the main diagonal."
   ]
  },
  {
   "cell_type": "code",
   "execution_count": 19,
   "id": "8cdcf9bc",
   "metadata": {},
   "outputs": [
    {
     "name": "stdout",
     "output_type": "stream",
     "text": [
      "15\n"
     ]
    }
   ],
   "source": [
    "matrix = [[1, 2, 3], [4, 5, 6], [7, 8, 9]]\n",
    "diagonal_sum = sum(matrix[i][i] for i in range(len(matrix)))\n",
    "print(diagonal_sum)"
   ]
  },
  {
   "cell_type": "markdown",
   "id": "66aab1eb",
   "metadata": {},
   "source": [
    "# Write a Python program to search for a specific element in a nested list and return its position (row and column indices)."
   ]
  },
  {
   "cell_type": "code",
   "execution_count": 20,
   "id": "a3d5422c",
   "metadata": {},
   "outputs": [
    {
     "name": "stdout",
     "output_type": "stream",
     "text": [
      "[(1, 1)]\n"
     ]
    }
   ],
   "source": [
    "nested_list = [[1, 2, 3], [4, 5, 6], [7, 8, 9]]\n",
    "element = 5\n",
    "position = [(i, j) for i, sublist in enumerate(nested_list) for j, item in enumerate(sublist) if item == element]\n",
    "print(position)"
   ]
  },
  {
   "cell_type": "markdown",
   "id": "44a93f3c",
   "metadata": {},
   "source": [
    "# Write a Python program that takes a list of elements as input and creates a new set containing only the unique elements from the list."
   ]
  },
  {
   "cell_type": "code",
   "execution_count": 23,
   "id": "7851d8c5",
   "metadata": {},
   "outputs": [
    {
     "name": "stdout",
     "output_type": "stream",
     "text": [
      "{1, 2, 3, 4, 5, 6}\n"
     ]
    }
   ],
   "source": [
    "list_with_duplicates = [1, 2, 3, 1, 4, 5, 2, 6]\n",
    "unique_elements = set(list_with_duplicates)\n",
    "print(unique_elements)"
   ]
  },
  {
   "cell_type": "markdown",
   "id": "ce067e83",
   "metadata": {},
   "source": [
    "# Given two sets A and B, write a Python program to find their intersection and print the common elements."
   ]
  },
  {
   "cell_type": "code",
   "execution_count": 24,
   "id": "176e9e58",
   "metadata": {},
   "outputs": [
    {
     "name": "stdout",
     "output_type": "stream",
     "text": [
      "{3, 4}\n"
     ]
    }
   ],
   "source": [
    "set_a = {1, 2, 3, 4}\n",
    "set_b = {3, 4, 5, 6}\n",
    "intersection = set_a.intersection(set_b)\n",
    "print(intersection)"
   ]
  },
  {
   "cell_type": "markdown",
   "id": "8dde54f3",
   "metadata": {},
   "source": [
    "# Given two sets A and B, write a Python program to find their union and print all the distinct elements from both sets."
   ]
  },
  {
   "cell_type": "code",
   "execution_count": 25,
   "id": "9cdf09b9",
   "metadata": {},
   "outputs": [
    {
     "name": "stdout",
     "output_type": "stream",
     "text": [
      "{1, 2, 3, 4, 5, 6}\n"
     ]
    }
   ],
   "source": [
    "set_a = {1, 2, 3, 4}\n",
    "set_b = {3, 4, 5, 6}\n",
    "union = set_a.union(set_b)\n",
    "print(union)"
   ]
  },
  {
   "cell_type": "markdown",
   "id": "d6ba0704",
   "metadata": {},
   "source": [
    "# Given two sets A and B, write a Python program to find the difference between set A and set B (i.e., elements present in A but not in B) and print the result."
   ]
  },
  {
   "cell_type": "code",
   "execution_count": 26,
   "id": "9f2edad3",
   "metadata": {},
   "outputs": [
    {
     "name": "stdout",
     "output_type": "stream",
     "text": [
      "{1, 2}\n"
     ]
    }
   ],
   "source": [
    "set_a = {1, 2, 3, 4}\n",
    "set_b = {3, 4, 5, 6}\n",
    "difference = set_a.difference(set_b)\n",
    "print(difference)"
   ]
  },
  {
   "cell_type": "markdown",
   "id": "80d23b2c",
   "metadata": {},
   "source": [
    "# Given two sets A and B, write a Python program to find the symmetric difference between the two sets (i.e., elements that are present in either set A or set B, but not in both) and print the result."
   ]
  },
  {
   "cell_type": "code",
   "execution_count": 27,
   "id": "99b918b4",
   "metadata": {},
   "outputs": [
    {
     "name": "stdout",
     "output_type": "stream",
     "text": [
      "{1, 2, 5, 6}\n"
     ]
    }
   ],
   "source": [
    "set_a = {1, 2, 3, 4}\n",
    "set_b = {3, 4, 5, 6}\n",
    "symmetric_difference = set_a.symmetric_difference(set_b)\n",
    "print(symmetric_difference)  "
   ]
  },
  {
   "cell_type": "markdown",
   "id": "063c24ed",
   "metadata": {},
   "source": [
    "# Given three sets A, B, and C, write a Python program to find and print the intersection of A and B, the union of B and C, and the difference between C and A."
   ]
  },
  {
   "cell_type": "code",
   "execution_count": 28,
   "id": "710da52d",
   "metadata": {},
   "outputs": [
    {
     "name": "stdout",
     "output_type": "stream",
     "text": [
      "Intersection of A and B: {3}\n",
      "Union of B and C: {3, 4, 5, 6, 7}\n",
      "Difference of C and A: {5, 6, 7}\n"
     ]
    }
   ],
   "source": [
    "set_a = {1, 2, 3}\n",
    "set_b = {3, 4, 5}\n",
    "set_c = {5, 6, 7}\n",
    "\n",
    "intersection_ab = set_a.intersection(set_b)\n",
    "union_bc = set_b.union(set_c)\n",
    "difference_ca = set_c.difference(set_a)\n",
    "\n",
    "print(\"Intersection of A and B:\", intersection_ab)\n",
    "print(\"Union of B and C:\", union_bc)\n",
    "print(\"Difference of C and A:\", difference_ca)"
   ]
  },
  {
   "cell_type": "markdown",
   "id": "9cd93e1c",
   "metadata": {},
   "source": [
    "# Given two sets A and B, write a Python program to check if set A is a subset of set B and print the result."
   ]
  },
  {
   "cell_type": "code",
   "execution_count": 29,
   "id": "ace61949",
   "metadata": {},
   "outputs": [
    {
     "name": "stdout",
     "output_type": "stream",
     "text": [
      "Is A a subset of B: True\n"
     ]
    }
   ],
   "source": [
    "set_a = {1, 2, 3}\n",
    "set_b = {1, 2, 3, 4}\n",
    "\n",
    "is_subset = set_a.issubset(set_b)\n",
    "print(\"Is A a subset of B:\", is_subset)  "
   ]
  },
  {
   "cell_type": "markdown",
   "id": "4a0e8af8",
   "metadata": {},
   "source": [
    "# Given two sets A and B, write a Python program to check if set A is a superset of set B and print the result."
   ]
  },
  {
   "cell_type": "code",
   "execution_count": 30,
   "id": "8345d24b",
   "metadata": {},
   "outputs": [
    {
     "name": "stdout",
     "output_type": "stream",
     "text": [
      "Is A a superset of B: True\n"
     ]
    }
   ],
   "source": [
    "set_a = {1, 2, 3, 4}\n",
    "set_b = {1, 2, 3}\n",
    "\n",
    "is_superset = set_a.issuperset(set_b)\n",
    "print(\"Is A a superset of B:\", is_superset)"
   ]
  },
  {
   "cell_type": "markdown",
   "id": "16abe90a",
   "metadata": {},
   "source": [
    "# Write a Python program that takes a set as input and prints the number of elements in the set."
   ]
  },
  {
   "cell_type": "code",
   "execution_count": 31,
   "id": "51760aa6",
   "metadata": {},
   "outputs": [
    {
     "name": "stdout",
     "output_type": "stream",
     "text": [
      "Number of elements in the set: 5\n"
     ]
    }
   ],
   "source": [
    "set_example = {1, 2, 3, 4, 5}\n",
    "length = len(set_example)\n",
    "print(\"Number of elements in the set:\", length)  "
   ]
  },
  {
   "cell_type": "markdown",
   "id": "a7924acd",
   "metadata": {},
   "source": [
    "# Write a Python program that takes an element as input and checks if it exists in a given set. Print “Found” if the element is present and “Not Found” otherwise.\n",
    "\n",
    " "
   ]
  },
  {
   "cell_type": "code",
   "execution_count": 32,
   "id": "9b1e27ba",
   "metadata": {},
   "outputs": [
    {
     "name": "stdout",
     "output_type": "stream",
     "text": [
      "Found\n"
     ]
    }
   ],
   "source": [
    "element_to_check = 3\n",
    "set_example = {1, 2, 3, 4, 5}\n",
    "\n",
    "if element_to_check in set_example:\n",
    "    print(\"Found\")\n",
    "else:\n",
    "    print(\"Not Found\")"
   ]
  },
  {
   "cell_type": "markdown",
   "id": "86b257b3",
   "metadata": {},
   "source": [
    "# Given a dictionary with student names as keys and their corresponding scores as values, write a Python program to add a new student to the dictionary and update the score of an existing student."
   ]
  },
  {
   "cell_type": "code",
   "execution_count": 49,
   "id": "ce47b02b",
   "metadata": {},
   "outputs": [
    {
     "name": "stdout",
     "output_type": "stream",
     "text": [
      "{'shupan': 85, 'khan': 70, 'Nihal': 88, 'Khan': 80}\n"
     ]
    }
   ],
   "source": [
    "student_scores = {\"shupan\": 85, \"khan\": 70, \"Nihal\": 92}\n",
    "\n",
    "student_scores[\"Khan\"] = 80\n",
    "\n",
    "student_scores[\"Nihal\"] = 88\n",
    "\n",
    "print(student_scores)\n"
   ]
  },
  {
   "cell_type": "markdown",
   "id": "ced5e91e",
   "metadata": {},
   "source": [
    "# Write a Python program that takes a dictionary as input and prints all the keys and values in separate lines."
   ]
  },
  {
   "cell_type": "code",
   "execution_count": 50,
   "id": "367f2a01",
   "metadata": {},
   "outputs": [
    {
     "name": "stdout",
     "output_type": "stream",
     "text": [
      "shupan\n",
      "85\n",
      "khan\n",
      "92\n",
      "Nihal\n",
      "78\n"
     ]
    }
   ],
   "source": [
    "students = {\n",
    "    \"shupan\": 85,\n",
    "    \"khan\": 92,\n",
    "    \"Nihal\": 78\n",
    "}\n",
    "\n",
    "for key, value in students.items():\n",
    "    print(key)\n",
    "    print(value)"
   ]
  },
  {
   "cell_type": "markdown",
   "id": "788eec47",
   "metadata": {},
   "source": [
    "# Write a Python program to calculate and print the number of key-value pairs in a given dictionary."
   ]
  },
  {
   "cell_type": "code",
   "execution_count": 51,
   "id": "07b4542e",
   "metadata": {},
   "outputs": [
    {
     "name": "stdout",
     "output_type": "stream",
     "text": [
      "3\n"
     ]
    }
   ],
   "source": [
    "students = {\n",
    "    \"shupan\": 85,\n",
    "    \"Nohas\": 92,\n",
    "    \"Nihal\": 78\n",
    "}\n",
    "length = len(students)\n",
    "print(length)   "
   ]
  },
  {
   "cell_type": "markdown",
   "id": "5e4b277e",
   "metadata": {},
   "source": [
    "# Given a dictionary of items and their prices, write a Python program to search for an item based on its price and print the item’s name."
   ]
  },
  {
   "cell_type": "code",
   "execution_count": 52,
   "id": "64fcccbd",
   "metadata": {},
   "outputs": [
    {
     "name": "stdout",
     "output_type": "stream",
     "text": [
      "ball\n"
     ]
    }
   ],
   "source": [
    "items = {\n",
    "    \"ball\": 100,\n",
    "    \"bat\": 150,\n",
    "    \"stamp\": 500\n",
    "}\n",
    "price = 100\n",
    "for item, item_price in items.items():\n",
    "    if item_price == price:\n",
    "        print(item)"
   ]
  },
  {
   "cell_type": "markdown",
   "id": "33951395",
   "metadata": {},
   "source": [
    "# Given two dictionaries, write a Python program to merge them into a single dictionary and print the result.\n"
   ]
  },
  {
   "cell_type": "code",
   "execution_count": 53,
   "id": "69f85526",
   "metadata": {},
   "outputs": [
    {
     "name": "stdout",
     "output_type": "stream",
     "text": [
      "{'Shupan': 85, 'Khan': 92, 'Nihal': 78, 'Nohas': 88}\n"
     ]
    }
   ],
   "source": [
    "dict1 = {\n",
    "    \"Shupan\": 85,\n",
    "    \"Khan\": 92\n",
    "}\n",
    "\n",
    "dict2 = {\n",
    "    \"Nihal\": 78,\n",
    "    \"Nohas\": 88\n",
    "}\n",
    "\n",
    "merged_dict = {**dict1, **dict2}\n",
    "\n",
    "print(merged_dict)"
   ]
  },
  {
   "cell_type": "markdown",
   "id": "af78fa79",
   "metadata": {},
   "source": [
    "# Given a dictionary of items and their quantities, write a Python program to remove a specific item from the dictionary based on user input.\n"
   ]
  },
  {
   "cell_type": "code",
   "execution_count": 20,
   "id": "2dbfceb9",
   "metadata": {},
   "outputs": [
    {
     "name": "stdout",
     "output_type": "stream",
     "text": [
      "Enter the item to remove: item1\n",
      "Item removed successfully.\n"
     ]
    }
   ],
   "source": [
    "items = {\"item1\": 10, \"item2\": 20, \"item3\": 30}\n",
    "item_to_remove = input(\"Enter the item to remove: \")\n",
    "\n",
    "if item_to_remove in items:\n",
    "    del items[item_to_remove]\n",
    "    print(\"Item removed successfully.\")\n",
    "else:\n",
    "    print(\"Item not found in the dictionary.\")"
   ]
  },
  {
   "cell_type": "markdown",
   "id": "1a42f161",
   "metadata": {},
   "source": [
    "# Given a dictionary with names as keys and corresponding ages as values, write a Python program to sort the dictionary based on age in ascending order.\n"
   ]
  },
  {
   "cell_type": "code",
   "execution_count": 54,
   "id": "7a3dbcd9",
   "metadata": {},
   "outputs": [
    {
     "name": "stdout",
     "output_type": "stream",
     "text": [
      "{'nihal': 20, 'nohas': 30, 'shupan': 31}\n"
     ]
    }
   ],
   "source": [
    "ages = {\n",
    "    \"shupan\": 31,\n",
    "    \"nohas\": 30,\n",
    "    \"nihal\": 20\n",
    "}\n",
    "\n",
    "sorted_ages = dict(sorted(ages.items(), key=lambda x: x[1]))\n",
    "print(sorted_ages)"
   ]
  },
  {
   "cell_type": "markdown",
   "id": "134d516a",
   "metadata": {},
   "source": [
    "# Write a Python program that takes a string as input and creates a dictionary containing each character as a key and its frequency as the value.\n"
   ]
  },
  {
   "cell_type": "code",
   "execution_count": 22,
   "id": "0b8d2ac2",
   "metadata": {},
   "outputs": [
    {
     "name": "stdout",
     "output_type": "stream",
     "text": [
      "Enter a string: data science\n",
      "{'d': 1, 'a': 2, 't': 1, ' ': 1, 's': 1, 'c': 2, 'i': 1, 'e': 2, 'n': 1}\n"
     ]
    }
   ],
   "source": [
    "string = input(\"Enter a string: \")\n",
    "\n",
    "frequency_dict = {}\n",
    "for char in string:\n",
    "    frequency_dict[char] = frequency_dict.get(char, 0) + 1\n",
    "print(frequency_dict)\n"
   ]
  },
  {
   "cell_type": "markdown",
   "id": "67c443e5",
   "metadata": {},
   "source": [
    "# Given a list of integers, write a Python program to create a dictionary where the keys are the elements from the list, and the values are their squares.\n"
   ]
  },
  {
   "cell_type": "code",
   "execution_count": 23,
   "id": "10119213",
   "metadata": {},
   "outputs": [
    {
     "name": "stdout",
     "output_type": "stream",
     "text": [
      "{1: 1, 2: 4, 3: 9, 4: 16, 5: 25}\n"
     ]
    }
   ],
   "source": [
    "numbers = [1, 2, 3, 4, 5]\n",
    "squared_dict = {num: num**2 for num in numbers}\n",
    "print(squared_dict)"
   ]
  },
  {
   "cell_type": "markdown",
   "id": "129b07fc",
   "metadata": {},
   "source": [
    "# Write a Python program that takes a key as input and checks if it exists in a given dictionary. Print “Key Found” if the key is present and “Key Not Found” otherwise."
   ]
  },
  {
   "cell_type": "code",
   "execution_count": 57,
   "id": "072ca744",
   "metadata": {},
   "outputs": [
    {
     "name": "stdout",
     "output_type": "stream",
     "text": [
      "Enter a key to check: shupan\n",
      "Key Found\n"
     ]
    }
   ],
   "source": [
    "students = {\n",
    "    \"shupan\": 85,\n",
    "    \"nohas\": 92,\n",
    "    \"nihal\": 78\n",
    "}\n",
    "\n",
    "key_to_check = input(\"Enter a key to check: \")\n",
    "if key_to_check in students:\n",
    "    print(\"Key Found\")\n",
    "else:\n",
    "    print(\"Key Not Found\")"
   ]
  },
  {
   "cell_type": "markdown",
   "id": "edc3e48a",
   "metadata": {},
   "source": [
    "# Given a nested dictionary containing student details, write a Python program to access and print specific information such as a student’s name, age, and address."
   ]
  },
  {
   "cell_type": "code",
   "execution_count": 2,
   "id": "a23b862c",
   "metadata": {},
   "outputs": [
    {
     "name": "stdout",
     "output_type": "stream",
     "text": [
      "shupan Khan\n",
      "23\n",
      "imambari\n"
     ]
    }
   ],
   "source": [
    "student_details = {\n",
    "    'student1': {\n",
    "        'name': 'shupan Khan',\n",
    "        'age': 23,\n",
    "        'address': 'imambari'\n",
    "    },\n",
    "    'student2': {\n",
    "        'name': 'Nohas',\n",
    "        'age': 19,\n",
    "        'address': 'shilasi'\n",
    "    }\n",
    "}\n",
    "\n",
    "print(student_details['student1']['name'])\n",
    "print(student_details['student1']['age'])  \n",
    "print(student_details['student1']['address']) "
   ]
  },
  {
   "cell_type": "markdown",
   "id": "7559c444",
   "metadata": {},
   "source": [
    "# Write a Python program to calculate and print the total number of key-value pairs in a nested dictionary.\n"
   ]
  },
  {
   "cell_type": "code",
   "execution_count": 30,
   "id": "1bd920e2",
   "metadata": {},
   "outputs": [
    {
     "name": "stdout",
     "output_type": "stream",
     "text": [
      "4\n"
     ]
    }
   ],
   "source": [
    "nested_dict = {\n",
    "    'key1': {\n",
    "        'subkey1': 'value1',\n",
    "        'subkey2': 'value2'\n",
    "    },\n",
    "    'key2': {\n",
    "        'subkey3': 'value3',\n",
    "        'subkey4': 'value4'\n",
    "    }\n",
    "}\n",
    "\n",
    "total_pairs = sum(len(value) for value in nested_dict.values())\n",
    "print(total_pairs) \n"
   ]
  },
  {
   "cell_type": "markdown",
   "id": "f238d99c",
   "metadata": {},
   "source": [
    "# Given a nested dictionary of employee details, write a Python program to update an employee’s salary based on their employee ID.\n"
   ]
  },
  {
   "cell_type": "code",
   "execution_count": 59,
   "id": "27e1c40e",
   "metadata": {},
   "outputs": [
    {
     "name": "stdout",
     "output_type": "stream",
     "text": [
      "{'employee1': {'id': 1, 'name': 'shupan khan', 'salary': 250000}, 'employee2': {'id': 2, 'name': 'Nihal', 'salary': 70000}}\n"
     ]
    }
   ],
   "source": [
    "employee_details = {\n",
    "    'employee1': {\n",
    "        'id': 1,\n",
    "        'name': 'shupan khan',\n",
    "        'salary': 250000\n",
    "    },\n",
    "    'employee2': {\n",
    "        'id': 2,\n",
    "        'name': 'Nihal',\n",
    "        'salary': 400000\n",
    "    }\n",
    "}\n",
    "\n",
    "employee_id = 2\n",
    "new_salary = 70000\n",
    "employee_details['employee2']['salary'] = new_salary\n",
    "print(employee_details) \n"
   ]
  },
  {
   "cell_type": "markdown",
   "id": "b31ed2f0",
   "metadata": {},
   "source": [
    "# Given a nested dictionary containing product details (product name, price, and quantity), write a Python program to sort the products based on their prices in ascending order.\n"
   ]
  },
  {
   "cell_type": "code",
   "execution_count": 60,
   "id": "15ee783e",
   "metadata": {},
   "outputs": [
    {
     "name": "stdout",
     "output_type": "stream",
     "text": [
      "('product3', {'name': 'stamp', 'price': 20, 'quantity': 4})\n",
      "('product1', {'name': 'ball', 'price': 100, 'quantity': 10})\n",
      "('product2', {'name': 'bat', 'price': 500, 'quantity': 2})\n"
     ]
    }
   ],
   "source": [
    "product_details = {\n",
    "    'product1': {\n",
    "        'name': 'ball',\n",
    "        'price': 100,\n",
    "        'quantity': 10\n",
    "    },\n",
    "    'product2': {\n",
    "        'name': 'bat',\n",
    "        'price': 500,\n",
    "        'quantity': 2\n",
    "    },\n",
    "    'product3': {\n",
    "        'name': 'stamp',\n",
    "        'price': 20,\n",
    "        'quantity': 4\n",
    "    }\n",
    "}\n",
    "\n",
    "sorted_products = sorted(product_details.items(), key=lambda x: x[1]['price'])\n",
    "for product in sorted_products:\n",
    "    print(product)"
   ]
  },
  {
   "cell_type": "markdown",
   "id": "42d44db5",
   "metadata": {},
   "source": [
    "# Write a Python program that takes a key as input and searches for it in a nested dictionary. If found, print the corresponding value, otherwise, print “Key Not Found.”"
   ]
  },
  {
   "cell_type": "code",
   "execution_count": 61,
   "id": "998fff8d",
   "metadata": {},
   "outputs": [
    {
     "name": "stdout",
     "output_type": "stream",
     "text": [
      "Enter the key to search: shupan\n",
      "Key 'shupan' Not Found.\n",
      "Key 'shupan' Not Found.\n",
      "Key 'shupan' Not Found.\n"
     ]
    }
   ],
   "source": [
    "def search_nested_dictionary(nested_dict, key):\n",
    "    for k, v in nested_dict.items():\n",
    "        if k == key:\n",
    "            print(f\"Value for key '{key}': {v}\")\n",
    "            return\n",
    "        elif isinstance(v, dict):\n",
    "            search_nested_dictionary(v, key)\n",
    "\n",
    "    print(f\"Key '{key}' Not Found.\")\n",
    "nested_dict = {\n",
    "    'name': 'shupan',\n",
    "    'age': 22,\n",
    "    'address': {\n",
    "        'city': 'imambari',\n",
    "    },\n",
    "    'contacts': {\n",
    "        'email': 'shupankhan..@.com',\n",
    "    \n",
    "    }\n",
    "}\n",
    "input_key = input(\"Enter the key to search: \")\n",
    "\n",
    "search_nested_dictionary(nested_dict, input_key)\n"
   ]
  },
  {
   "cell_type": "markdown",
   "id": "1205af4a",
   "metadata": {},
   "source": [
    "# Write a Python program that takes a number as input and determines if it is a prime number or not. Use a `for` loop to check for factors. If a factor is found, `break` out of the loop."
   ]
  },
  {
   "cell_type": "code",
   "execution_count": 62,
   "id": "2c5e7d67",
   "metadata": {},
   "outputs": [
    {
     "name": "stdout",
     "output_type": "stream",
     "text": [
      "Enter a number: 15\n",
      "15 is not a prime number.\n"
     ]
    }
   ],
   "source": [
    "def is_prime(num):\n",
    "    if num < 2:\n",
    "        return False\n",
    "    for i in range(2, int(num**0.5) + 1):\n",
    "        if num % i == 0:\n",
    "            return False\n",
    "    return True\n",
    "\n",
    "number = int(input(\"Enter a number: \"))\n",
    "if is_prime(number):\n",
    "    print(f\"{number} is a prime number.\")\n",
    "else:\n",
    "    print(f\"{number} is not a prime number.\")\n"
   ]
  },
  {
   "cell_type": "markdown",
   "id": "85fa6a30",
   "metadata": {},
   "source": [
    "# Write a Python program to print all even numbers from 1 to 20. Use a `for` loop and `continue` to skip odd numbers.\n"
   ]
  },
  {
   "cell_type": "code",
   "execution_count": 40,
   "id": "c90226eb",
   "metadata": {},
   "outputs": [
    {
     "name": "stdout",
     "output_type": "stream",
     "text": [
      "2\n",
      "4\n",
      "6\n",
      "8\n",
      "10\n",
      "12\n",
      "14\n",
      "16\n",
      "18\n",
      "20\n"
     ]
    }
   ],
   "source": [
    "for i in range(1, 21):\n",
    "    if i % 2 != 0:\n",
    "        continue\n",
    "    print(i)\n"
   ]
  },
  {
   "cell_type": "markdown",
   "id": "ddb99bcb",
   "metadata": {},
   "source": [
    "# Write a Python program that takes a password as input and checks if it meets the following criteria: at least 8 characters long, contains both uppercase and lowercase letters, and has at least one digit. If the password is valid, print “Password accepted.” If not, use `continue` to prompt the user to enter a valid password.\n"
   ]
  },
  {
   "cell_type": "code",
   "execution_count": null,
   "id": "a3758a35",
   "metadata": {},
   "outputs": [
    {
     "name": "stdout",
     "output_type": "stream",
     "text": [
      "Enter a password: 12345678\n",
      "Invalid password. Please try again.\n",
      "Enter a password: Ta6\n",
      "Invalid password. Please try again.\n"
     ]
    }
   ],
   "source": [
    "while True:\n",
    "    password = input(\"Enter a password: \")\n",
    "    if len(password) < 8 or not any(c.isupper() for c in password) or not any(c.islower() for c in password) or not any(c.isdigit() for c in password):\n",
    "        print(\"Invalid password. Please try again.\")\n",
    "        continue\n",
    "    print(\"Password accepted.\")\n",
    "    break\n"
   ]
  },
  {
   "cell_type": "markdown",
   "id": "bb2cc62f",
   "metadata": {},
   "source": [
    "# Write a Python program to print all numbers from 1 to 50 that are divisible by either 3 or 5. Use a `for` loop and `continue` to skip numbers that are not divisible by either 3 or 5.\n"
   ]
  },
  {
   "cell_type": "code",
   "execution_count": 1,
   "id": "0850cc0f",
   "metadata": {},
   "outputs": [
    {
     "name": "stdout",
     "output_type": "stream",
     "text": [
      "3\n",
      "5\n",
      "6\n",
      "9\n",
      "10\n",
      "12\n",
      "15\n",
      "18\n",
      "20\n",
      "21\n",
      "24\n",
      "25\n",
      "27\n",
      "30\n",
      "33\n",
      "35\n",
      "36\n",
      "39\n",
      "40\n",
      "42\n",
      "45\n",
      "48\n",
      "50\n"
     ]
    }
   ],
   "source": [
    "for num in range(1, 51):\n",
    "    if num % 3 != 0 and num % 5 != 0:\n",
    "        continue\n",
    "    print(num)\n"
   ]
  },
  {
   "cell_type": "markdown",
   "id": "eed5a26f",
   "metadata": {},
   "source": [
    "# Write a Python program that takes positive numbers as input until a negative number is entered. Then, calculate and print the sum of all positive numbers entered. Use a `while` loop and `break` to exit the loop when a negative number is encountered.\n"
   ]
  },
  {
   "cell_type": "code",
   "execution_count": 4,
   "id": "d0e178cd",
   "metadata": {},
   "outputs": [
    {
     "name": "stdout",
     "output_type": "stream",
     "text": [
      "Enter a positive number (enter a negative number to stop): 20\n",
      "Enter a positive number (enter a negative number to stop): -1\n",
      "Sum of positive numbers: 20\n"
     ]
    }
   ],
   "source": [
    "sum_positive = 0\n",
    "while True:\n",
    "    num = int(input(\"Enter a positive number (enter a negative number to stop): \"))\n",
    "    if num < 0:\n",
    "        break\n",
    "    sum_positive += num\n",
    "\n",
    "print(f\"Sum of positive numbers: {sum_positive}\")\n"
   ]
  },
  {
   "cell_type": "markdown",
   "id": "e8d944c1",
   "metadata": {},
   "source": [
    "# Write a Python program that takes a word as input and checks if it is a palindrome (reads the same forwards and backward). Use `continue` to skip checking the word if its length is less than 3 characters."
   ]
  },
  {
   "cell_type": "code",
   "execution_count": 5,
   "id": "1768da2c",
   "metadata": {},
   "outputs": [
    {
     "name": "stdout",
     "output_type": "stream",
     "text": [
      "Enter a word: 12321\n",
      "12321 is a palindrome.\n"
     ]
    }
   ],
   "source": [
    "word = input(\"Enter a word: \")\n",
    "if len(word) < 3:\n",
    "    print(\"Word too short for palindrome check.\")\n",
    "    exit()\n",
    "\n",
    "if word == word[::-1]:\n",
    "    print(f\"{word} is a palindrome.\")\n",
    "else:\n",
    "    print(f\"{word} is not a palindrome.\")\n"
   ]
  },
  {
   "cell_type": "markdown",
   "id": "0465dc52",
   "metadata": {},
   "source": [
    "# Write a Python program to find the first odd number from a list of integers. Use a `for` loop and `break` to stop the loop when the first odd number is found."
   ]
  },
  {
   "cell_type": "code",
   "execution_count": 6,
   "id": "ed35fa59",
   "metadata": {},
   "outputs": [
    {
     "name": "stdout",
     "output_type": "stream",
     "text": [
      "The first odd number is: 9\n"
     ]
    }
   ],
   "source": [
    "numbers = [2, 4, 6, 8, 9, 10, 12, 14] \n",
    "for num in numbers:\n",
    "    if num % 2 != 0:\n",
    "        print(f\"The first odd number is: {num}\")\n",
    "        break\n"
   ]
  },
  {
   "cell_type": "markdown",
   "id": "4ae9b245",
   "metadata": {},
   "source": [
    "# Write a Python program that generates a random number between 1 and 100 and lets the user guess the number. Use a `while` loop, `break` when the correct number is guessed, and `continue` to keep prompting the user until they guess correctly.\n"
   ]
  },
  {
   "cell_type": "code",
   "execution_count": null,
   "id": "1cd05a00",
   "metadata": {},
   "outputs": [
    {
     "name": "stdout",
     "output_type": "stream",
     "text": [
      "Guess the number: 50\n",
      "Wrong guess. Try again.\n",
      "Guess the number: 100\n",
      "Wrong guess. Try again.\n",
      "Guess the number: 1\n",
      "Wrong guess. Try again.\n",
      "Guess the number: 1\n",
      "Wrong guess. Try again.\n"
     ]
    }
   ],
   "source": [
    "import random\n",
    "\n",
    "number = random.randint(1, 100)\n",
    "while True:\n",
    "    guess = int(input(\"Guess the number: \"))\n",
    "    if guess == number:\n",
    "        print(\"Congratulations! You guessed the correct number.\")\n",
    "        break\n",
    "    else:\n",
    "        print(\"Wrong guess. Try again.\")\n",
    "        continue"
   ]
  },
  {
   "cell_type": "markdown",
   "id": "28373c4c",
   "metadata": {},
   "source": [
    "# Write a Python program that takes a string as input and counts the number of vowels (a, e, i, o, u) in it. Use a `for` loop and `continue` to skip counting non-vowel characters."
   ]
  },
  {
   "cell_type": "code",
   "execution_count": 63,
   "id": "ce0f8953",
   "metadata": {},
   "outputs": [
    {
     "name": "stdout",
     "output_type": "stream",
     "text": [
      "Enter a string: shupan\n",
      "Number of vowels: 2\n"
     ]
    }
   ],
   "source": [
    "input_string = input(\"Enter a string: \")\n",
    "vowel_count = 0\n",
    "for char in input_string:\n",
    "    if char.lower() in \"aeiou\":\n",
    "        vowel_count += 1\n",
    "\n",
    "print(f\"Number of vowels: {vowel_count}\")\n"
   ]
  },
  {
   "cell_type": "markdown",
   "id": "1988514f",
   "metadata": {},
   "source": [
    "# Write a Python program that takes a string as input and checks if it contains all unique characters (no character repeats). Use a `for` loop and `break` when a character repeats."
   ]
  },
  {
   "cell_type": "code",
   "execution_count": 3,
   "id": "be78b647",
   "metadata": {},
   "outputs": [
    {
     "name": "stdout",
     "output_type": "stream",
     "text": [
      "Enter a string: Shupan Khan\n",
      "String contains repeating characters.\n"
     ]
    }
   ],
   "source": [
    "input_string = input(\"Enter a string: \")\n",
    "for i in range(len(input_string)):\n",
    "    if input_string[i] in input_string[i+1:]:\n",
    "        print(\"String contains repeating characters.\")\n",
    "        break\n",
    "else:\n",
    "    print(\"String contains all unique characters.\")\n"
   ]
  },
  {
   "cell_type": "markdown",
   "id": "9e775ffe",
   "metadata": {},
   "source": [
    "# Write a Python function called `factorial` that takes an integer as input and returns its factorial. Test the function with different values"
   ]
  },
  {
   "cell_type": "code",
   "execution_count": 3,
   "id": "28658f6d",
   "metadata": {},
   "outputs": [
    {
     "name": "stdout",
     "output_type": "stream",
     "text": [
      "Factorial of 0: 1\n",
      "Factorial of 1: 1\n",
      "Factorial of 2: 2\n",
      "Factorial of 3: 6\n",
      "Factorial of 4: 24\n",
      "Factorial of 5: 120\n"
     ]
    }
   ],
   "source": [
    "def factorial(n):\n",
    "    if n == 0 or n == 1:\n",
    "        return 1\n",
    "    return n * factorial(n-1)\n",
    "for i in range(6):\n",
    "    print(f\"Factorial of {i}: {factorial(i)}\")\n"
   ]
  },
  {
   "cell_type": "markdown",
   "id": "f10a0eb1",
   "metadata": {},
   "source": [
    "# Write a Python function called `is_palindrome` that takes a string as input and returns `True` if it is a palindrome and `False` otherwise. Test the function with different words."
   ]
  },
  {
   "cell_type": "code",
   "execution_count": 5,
   "id": "4c59045e",
   "metadata": {},
   "outputs": [
    {
     "name": "stdout",
     "output_type": "stream",
     "text": [
      "level is a palindrome: True\n",
      "python is a palindrome: False\n",
      "data is a palindrome: False\n",
      "science is a palindrome: False\n"
     ]
    }
   ],
   "source": [
    "def is_palindrome(word):\n",
    "    return word == word[::-1]\n",
    "\n",
    "words_to_test = [\"level\", \"python\", \"data\", \"science\"]\n",
    "for word in words_to_test:\n",
    "    print(f\"{word} is a palindrome: {is_palindrome(word)}\")\n"
   ]
  },
  {
   "cell_type": "markdown",
   "id": "f37056a7",
   "metadata": {},
   "source": [
    "# Write a Python function called `even_or_odd` that takes an integer as input and returns “Even” if the number is even and “Odd” if the number is odd. Test the function with different numbers"
   ]
  },
  {
   "cell_type": "code",
   "execution_count": 6,
   "id": "5e628edb",
   "metadata": {},
   "outputs": [
    {
     "name": "stdout",
     "output_type": "stream",
     "text": [
      "2 is Even\n",
      "7 is Odd\n",
      "12 is Even\n",
      "15 is Odd\n",
      "20 is Even\n"
     ]
    }
   ],
   "source": [
    "def even_or_odd(number):\n",
    "    return \"Even\" if number % 2 == 0 else \"Odd\"\n",
    "numbers_to_test = [2, 7, 12, 15, 20]\n",
    "for num in numbers_to_test:\n",
    "    print(f\"{num} is {even_or_odd(num)}\")\n"
   ]
  },
  {
   "cell_type": "markdown",
   "id": "7ca387cf",
   "metadata": {},
   "source": [
    "# Write a Python function called `list_sum` that takes a list of integers as input and returns the sum of all elements in the list. Test the function with different lists.\n"
   ]
  },
  {
   "cell_type": "code",
   "execution_count": 7,
   "id": "87007a32",
   "metadata": {},
   "outputs": [
    {
     "name": "stdout",
     "output_type": "stream",
     "text": [
      "Sum of [1, 2, 3]: 6\n",
      "Sum of [4, 5, 6]: 15\n",
      "Sum of [10, -5, 3]: 8\n"
     ]
    }
   ],
   "source": [
    "def list_sum(numbers):\n",
    "    return sum(numbers)\n",
    "lists_to_test = [[1, 2, 3], [4, 5, 6], [10, -5, 3]]\n",
    "for lst in lists_to_test:\n",
    "    print(f\"Sum of {lst}: {list_sum(lst)}\")\n"
   ]
  },
  {
   "cell_type": "markdown",
   "id": "f4995f0c",
   "metadata": {},
   "source": [
    "# Write a Python function called `gcd` that takes two integers as input and returns their greatest common divisor. Test the function with different pairs of numbers.\n"
   ]
  },
  {
   "cell_type": "code",
   "execution_count": 8,
   "id": "cb8cbc07",
   "metadata": {},
   "outputs": [
    {
     "name": "stdout",
     "output_type": "stream",
     "text": [
      "GCD of 24 and 36: 12\n",
      "GCD of 45 and 60: 15\n",
      "GCD of 8 and 12: 4\n"
     ]
    }
   ],
   "source": [
    "def gcd(a, b):\n",
    "    while b:\n",
    "        a, b = b, a % b\n",
    "    return a\n",
    "pairs_to_test = [(24, 36), (45, 60), (8, 12)]\n",
    "for pair in pairs_to_test:\n",
    "    print(f\"GCD of {pair[0]} and {pair[1]}: {gcd(pair[0], pair[1])}\")\n"
   ]
  },
  {
   "cell_type": "markdown",
   "id": "8742aa44",
   "metadata": {},
   "source": [
    "# Write a Python function called `is_leap_year` that takes a year as input and returns `True` if it is a leap year and `False` otherwise. Test the function with different years."
   ]
  },
  {
   "cell_type": "code",
   "execution_count": 9,
   "id": "52e9ddd0",
   "metadata": {},
   "outputs": [
    {
     "name": "stdout",
     "output_type": "stream",
     "text": [
      "2000 is a leap year: True\n",
      "2020 is a leap year: True\n",
      "2022 is a leap year: False\n",
      "2024 is a leap year: True\n"
     ]
    }
   ],
   "source": [
    "def is_leap_year(year):\n",
    "    return (year % 4 == 0 and year % 100 != 0) or (year % 400 == 0)\n",
    "\n",
    "years_to_test = [2000, 2020, 2022, 2024]\n",
    "for year in years_to_test:\n",
    "    print(f\"{year} is a leap year: {is_leap_year(year)}\")\n"
   ]
  },
  {
   "cell_type": "markdown",
   "id": "7261a300",
   "metadata": {},
   "source": [
    "# Write a Python function called `math_operations` that takes three numbers and a string representing an operation (‘add’, ‘subtract’, ‘multiply’, or ‘divide’). The function should return the result of the specified operation on the three numbers. Implement the math operations as nested functions.\n"
   ]
  },
  {
   "cell_type": "code",
   "execution_count": 10,
   "id": "c2c3a0e2",
   "metadata": {},
   "outputs": [
    {
     "name": "stdout",
     "output_type": "stream",
     "text": [
      "60\n"
     ]
    }
   ],
   "source": [
    "def math_operations(num1, num2, num3, operation):\n",
    "    def add(x, y, z):\n",
    "        return x + y + z\n",
    "\n",
    "    def subtract(x, y, z):\n",
    "        return x - y - z\n",
    "\n",
    "    def multiply(x, y, z):\n",
    "        return x * y * z\n",
    "\n",
    "    def divide(x, y, z):\n",
    "        if y == 0 or z == 0:\n",
    "            return \"Cannot divide by zero\"\n",
    "        return x / y / z\n",
    "\n",
    "    if operation == 'add':\n",
    "        return add(num1, num2, num3)\n",
    "    elif operation == 'subtract':\n",
    "        return subtract(num1, num2, num3)\n",
    "    elif operation == 'multiply':\n",
    "        return multiply(num1, num2, num3)\n",
    "    elif operation == 'divide':\n",
    "        return divide(num1, num2, num3)\n",
    "    else:\n",
    "        return \"Invalid operation\"\n",
    "\n",
    "result = math_operations(10, 2, 3, 'multiply')\n",
    "print(result)\n"
   ]
  },
  {
   "cell_type": "markdown",
   "id": "aea3fe1f",
   "metadata": {},
   "source": [
    "# Write a Python function called `greeting_generator` that takes a name as input and returns a greeting message using nested functions. The greeting message should be customizable (e.g., “Hello, {name}! How are you today?”)"
   ]
  },
  {
   "cell_type": "code",
   "execution_count": 64,
   "id": "4f31e5a4",
   "metadata": {},
   "outputs": [
    {
     "name": "stdout",
     "output_type": "stream",
     "text": [
      "Hello, shupan! How are you today?\n"
     ]
    }
   ],
   "source": [
    "def greeting_generator(name):\n",
    "    def casual_greeting():\n",
    "        return f\"Hello, {name}! How are you today?\"\n",
    "\n",
    "    def formal_greeting():\n",
    "        return f\"Good day, {name}. I hope you are well.\"\n",
    "\n",
    "    return casual_greeting() \n",
    "\n",
    "greeting = greeting_generator(\"shupan\")\n",
    "print(greeting)\n"
   ]
  },
  {
   "cell_type": "markdown",
   "id": "8fd03775",
   "metadata": {},
   "source": [
    "# Write a Python function called `temperature_converter` that takes a temperature value and a string representing the scale (‘C’ for Celsius or ‘F’ for Fahrenheit) as input. The function should convert the temperature from one scale to the other using nested functions and return the converted value.\n"
   ]
  },
  {
   "cell_type": "code",
   "execution_count": 12,
   "id": "a443ecba",
   "metadata": {},
   "outputs": [
    {
     "name": "stdout",
     "output_type": "stream",
     "text": [
      "89.6\n"
     ]
    }
   ],
   "source": [
    "def temperature_converter(value, scale):\n",
    "    def celsius_to_fahrenheit(temp):\n",
    "        return (temp * 9/5) + 32\n",
    "\n",
    "    def fahrenheit_to_celsius(temp):\n",
    "        return (temp - 32) * 5/9\n",
    "\n",
    "    if scale.upper() == 'C':\n",
    "        return fahrenheit_to_celsius(value)\n",
    "    elif scale.upper() == 'F':\n",
    "        return celsius_to_fahrenheit(value)\n",
    "    else:\n",
    "        return \"Invalid scale\"\n",
    "\n",
    "converted_temp = temperature_converter(32, 'F')\n",
    "print(converted_temp)\n"
   ]
  },
  {
   "cell_type": "markdown",
   "id": "4189bf49",
   "metadata": {},
   "source": [
    "# Write a recursive Python function called `factorial` that takes a non-negative integer as input and returns its factorial."
   ]
  },
  {
   "cell_type": "code",
   "execution_count": 13,
   "id": "ec25a1a0",
   "metadata": {},
   "outputs": [
    {
     "name": "stdout",
     "output_type": "stream",
     "text": [
      "120\n"
     ]
    }
   ],
   "source": [
    "def factorial(n):\n",
    "    if n == 0 or n == 1:\n",
    "        return 1\n",
    "    return n * factorial(n-1)\n",
    "result = factorial(5)\n",
    "print(result)\n"
   ]
  },
  {
   "cell_type": "markdown",
   "id": "cc40144b",
   "metadata": {},
   "source": [
    "# Write a recursive Python function called `Fibonacci` that takes an integer N as input and returns the Nth number in the Fibonacci series. The Fibonacci series is defined as follows: F(0) = 0, F(1) = 1, and F(n) = F(n-1) + F(n-2) for n > 1.\n"
   ]
  },
  {
   "cell_type": "code",
   "execution_count": 14,
   "id": "aa1099e8",
   "metadata": {},
   "outputs": [
    {
     "name": "stdout",
     "output_type": "stream",
     "text": [
      "8\n"
     ]
    }
   ],
   "source": [
    "def fibonacci(n):\n",
    "    if n == 0:\n",
    "        return 0\n",
    "    elif n == 1:\n",
    "        return 1\n",
    "    else:\n",
    "        return fibonacci(n-1) + fibonacci(n-2)\n",
    "result = fibonacci(6)\n",
    "print(result)\n"
   ]
  },
  {
   "cell_type": "markdown",
   "id": "da01da9c",
   "metadata": {},
   "source": [
    "# Write a recursive Python function called `sum_of_digits` that takes an integer as input and returns the sum of its digits."
   ]
  },
  {
   "cell_type": "code",
   "execution_count": 15,
   "id": "6e5ee8c9",
   "metadata": {},
   "outputs": [
    {
     "name": "stdout",
     "output_type": "stream",
     "text": [
      "15\n"
     ]
    }
   ],
   "source": [
    "def sum_of_digits(num):\n",
    "    if num == 0:\n",
    "        return 0\n",
    "    return num % 10 + sum_of_digits(num // 10)\n",
    "result = sum_of_digits(12345)\n",
    "print(result)\n"
   ]
  },
  {
   "cell_type": "markdown",
   "id": "5fbdc201",
   "metadata": {},
   "source": [
    "# Write a recursive Python function called `binary_search` that takes a sorted list and a target value as input and returns the index of the target value in the list using binary search. If the target value is not in the list, return -1."
   ]
  },
  {
   "cell_type": "code",
   "execution_count": 16,
   "id": "e28dc2c5",
   "metadata": {},
   "outputs": [
    {
     "name": "stdout",
     "output_type": "stream",
     "text": [
      "4\n"
     ]
    }
   ],
   "source": [
    "def binary_search(arr, target, low=0, high=None):\n",
    "    if high is None:\n",
    "        high = len(arr) - 1\n",
    "\n",
    "    if low <= high:\n",
    "        mid = (low + high) // 2\n",
    "\n",
    "        if arr[mid] == target:\n",
    "            return mid\n",
    "        elif arr[mid] < target:\n",
    "            return binary_search(arr, target, mid + 1, high)\n",
    "        else:\n",
    "            return binary_search(arr, target, low, mid - 1)\n",
    "    else:\n",
    "        return -1\n",
    "    \n",
    "sorted_list = [1, 2, 3, 4, 5, 6, 7, 8, 9]\n",
    "result = binary_search(sorted_list, 5)\n",
    "print(result)\n"
   ]
  },
  {
   "cell_type": "markdown",
   "id": "ba7b4906",
   "metadata": {},
   "source": [
    "# Write a recursive Python function called `power` that takes two positive integers, base and exponent, as input and returns the value of base raised to the exponent."
   ]
  },
  {
   "cell_type": "code",
   "execution_count": 17,
   "id": "17c0537b",
   "metadata": {},
   "outputs": [
    {
     "name": "stdout",
     "output_type": "stream",
     "text": [
      "8\n"
     ]
    }
   ],
   "source": [
    "def power(base, exponent):\n",
    "    if exponent == 0:\n",
    "        return 1\n",
    "    return base * power(base, exponent - 1)\n",
    "result = power(2, 3)\n",
    "print(result)\n"
   ]
  }
 ],
 "metadata": {
  "kernelspec": {
   "display_name": "Python 3 (ipykernel)",
   "language": "python",
   "name": "python3"
  },
  "language_info": {
   "codemirror_mode": {
    "name": "ipython",
    "version": 3
   },
   "file_extension": ".py",
   "mimetype": "text/x-python",
   "name": "python",
   "nbconvert_exporter": "python",
   "pygments_lexer": "ipython3",
   "version": "3.11.5"
  }
 },
 "nbformat": 4,
 "nbformat_minor": 5
}
