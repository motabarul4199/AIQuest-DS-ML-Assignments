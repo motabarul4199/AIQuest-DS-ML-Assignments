{
 "cells": [
  {
   "cell_type": "markdown",
   "id": "d99142c2",
   "metadata": {},
   "source": [
    "# Variable"
   ]
  },
  {
   "cell_type": "markdown",
   "id": "0264ba77",
   "metadata": {},
   "source": [
    "1. Swapping the values of two variables:"
   ]
  },
  {
   "cell_type": "code",
   "execution_count": 1,
   "id": "8b59111f",
   "metadata": {},
   "outputs": [
    {
     "name": "stdout",
     "output_type": "stream",
     "text": [
      "Enter the first variable: 10\n",
      "Enter the second variable: 12\n",
      "Swapped values - First variable: 12\n",
      "Swapped values - Second variable: 10\n"
     ]
    }
   ],
   "source": [
    "# Input\n",
    "a = input(\"Enter the first variable: \")\n",
    "b = input(\"Enter the second variable: \")\n",
    "\n",
    "# Swapping\n",
    "a, b = b, a\n",
    "\n",
    "# Output\n",
    "print(\"Swapped values - First variable:\", a)\n",
    "print(\"Swapped values - Second variable:\", b)"
   ]
  },
  {
   "cell_type": "markdown",
   "id": "a947ace8",
   "metadata": {},
   "source": [
    "2. Calculating the area of a rectangle:"
   ]
  },
  {
   "cell_type": "code",
   "execution_count": 2,
   "id": "ea8e3389",
   "metadata": {},
   "outputs": [
    {
     "name": "stdout",
     "output_type": "stream",
     "text": [
      "Enter the length of the rectangle: 12\n",
      "Enter the width of the rectangle: 5\n",
      "The area of the rectangle is: 60.0\n"
     ]
    }
   ],
   "source": [
    "# Input\n",
    "length = float(input(\"Enter the length of the rectangle: \"))\n",
    "width = float(input(\"Enter the width of the rectangle: \"))\n",
    "\n",
    "# Calculate the area\n",
    "area = length * width\n",
    "\n",
    "# Output\n",
    "print(\"The area of the rectangle is:\", area)"
   ]
  },
  {
   "cell_type": "markdown",
   "id": "2e60243a",
   "metadata": {},
   "source": [
    "3. Converting temperature from Fahrenheit to Celsius:"
   ]
  },
  {
   "cell_type": "code",
   "execution_count": 4,
   "id": "86801642",
   "metadata": {},
   "outputs": [
    {
     "name": "stdout",
     "output_type": "stream",
     "text": [
      "Enter the temperature in Fahrenheit: 100\n",
      "Temperature in Celsius is: 37.77777777777778\n"
     ]
    }
   ],
   "source": [
    "# Input\n",
    "fahrenheit = float(input(\"Enter the temperature in Fahrenheit: \"))\n",
    "\n",
    "# Convert to Celsius\n",
    "celsius = (fahrenheit - 32) * 5/9\n",
    "\n",
    "# Output\n",
    "print(\"Temperature in Celsius is:\", celsius)"
   ]
  },
  {
   "cell_type": "markdown",
   "id": "5ef8ff41",
   "metadata": {},
   "source": [
    "4.Calculating the volume of a sphere:"
   ]
  },
  {
   "cell_type": "code",
   "execution_count": 5,
   "id": "49868820",
   "metadata": {},
   "outputs": [
    {
     "name": "stdout",
     "output_type": "stream",
     "text": [
      "Enter the radius of the sphere: 12\n",
      "The volume of the sphere is: 7238.229473870882\n"
     ]
    }
   ],
   "source": [
    "import math\n",
    "\n",
    "# Input\n",
    "radius = float(input(\"Enter the radius of the sphere: \"))\n",
    "\n",
    "# Calculate the volume\n",
    "volume = (4/3) * math.pi * (radius ** 3)\n",
    "\n",
    "# Output\n",
    "print(\"The volume of the sphere is:\", volume)"
   ]
  },
  {
   "cell_type": "markdown",
   "id": "df1a2e32",
   "metadata": {},
   "source": [
    "5. Finding the average of three numbers:"
   ]
  },
  {
   "cell_type": "code",
   "execution_count": 7,
   "id": "63e3027f",
   "metadata": {},
   "outputs": [
    {
     "name": "stdout",
     "output_type": "stream",
     "text": [
      "Enter the first number: 19\n",
      "Enter the second number: 12\n",
      "Enter the third number: 13.5\n",
      "The average of the three numbers is: 14.833333333333334\n"
     ]
    }
   ],
   "source": [
    "num1 = float(input(\"Enter the first number: \"))\n",
    "num2 = float(input(\"Enter the second number: \"))\n",
    "num3 = float(input(\"Enter the third number: \"))\n",
    "\n",
    "# Calculate the average\n",
    "average = (num1 + num2 + num3) / 3\n",
    "\n",
    "# Output\n",
    "print(\"The average of the three numbers is:\",average)"
   ]
  },
  {
   "cell_type": "markdown",
   "id": "641f3e37",
   "metadata": {},
   "source": [
    "# If-elif-else"
   ]
  },
  {
   "cell_type": "markdown",
   "id": "a81b36d9",
   "metadata": {},
   "source": [
    "6. Determining if a number is even or odd:"
   ]
  },
  {
   "cell_type": "code",
   "execution_count": 8,
   "id": "ba067883",
   "metadata": {},
   "outputs": [
    {
     "name": "stdout",
     "output_type": "stream",
     "text": [
      "Enter a number: 23\n",
      "The number is odd.\n"
     ]
    }
   ],
   "source": [
    "# Input\n",
    "number = int(input(\"Enter a number: \"))\n",
    "\n",
    "# Check if the number is even or odd\n",
    "if number % 2 == 0:\n",
    "    print(\"The number is even.\")\n",
    "else:\n",
    "    print(\"The number is odd.\")"
   ]
  },
  {
   "cell_type": "markdown",
   "id": "7ef2a79a",
   "metadata": {},
   "source": [
    "7. Finding the maximum of three numbers:"
   ]
  },
  {
   "cell_type": "code",
   "execution_count": 12,
   "id": "827b041b",
   "metadata": {},
   "outputs": [
    {
     "name": "stdout",
     "output_type": "stream",
     "text": [
      "Enter the first number: 12\n",
      "Enter the second number: 23\n",
      "Enter the third number: 23.4\n",
      "The maximum of the three numbers is: 23.4\n"
     ]
    }
   ],
   "source": [
    "# Input\n",
    "num1 = input(\"Enter the first number: \")\n",
    "num2 = input(\"Enter the second number: \")\n",
    "num3 = input(\"Enter the third number: \")\n",
    "\n",
    "# Find the maximum\n",
    "max_num = max(num1, num2, num3)\n",
    "\n",
    "# Output\n",
    "print(\"The maximum of the three numbers is:\", max_num)"
   ]
  },
  {
   "cell_type": "markdown",
   "id": "f5e80508",
   "metadata": {},
   "source": [
    "8. Determining if a year is a leap year or not:"
   ]
  },
  {
   "cell_type": "code",
   "execution_count": 13,
   "id": "14c8f85e",
   "metadata": {},
   "outputs": [
    {
     "name": "stdout",
     "output_type": "stream",
     "text": [
      "Enter a year: 2016\n",
      "It's a leap year.\n"
     ]
    }
   ],
   "source": [
    "# Input\n",
    "year = int(input(\"Enter a year: \"))\n",
    "\n",
    "# Check if it's a leap year\n",
    "if (year % 4 == 0 and year % 100 != 0) or (year % 400 == 0):\n",
    "    print(\"It's a leap year.\")\n",
    "else:\n",
    "    print(\"It's not a leap year.\")"
   ]
  },
  {
   "cell_type": "markdown",
   "id": "d6c53cc6",
   "metadata": {},
   "source": [
    "9. Determining if a number is positive, negative, or zero:"
   ]
  },
  {
   "cell_type": "code",
   "execution_count": 14,
   "id": "937f4ab0",
   "metadata": {},
   "outputs": [
    {
     "name": "stdout",
     "output_type": "stream",
     "text": [
      "Enter a number: 12\n",
      "The number is positive.\n"
     ]
    }
   ],
   "source": [
    "# Input\n",
    "number = float(input(\"Enter a number: \"))\n",
    "\n",
    "# Check if the number is positive, negative, or zero\n",
    "if number > 0:\n",
    "    print(\"The number is positive.\")\n",
    "elif number < 0:\n",
    "    print(\"The number is negative.\")\n",
    "else:\n",
    "    print(\"The number is zero.\")"
   ]
  },
  {
   "cell_type": "markdown",
   "id": "0149e667",
   "metadata": {},
   "source": [
    "10. Calculating the grade based on a given percentage:"
   ]
  },
  {
   "cell_type": "code",
   "execution_count": 16,
   "id": "ecec6384",
   "metadata": {},
   "outputs": [
    {
     "name": "stdout",
     "output_type": "stream",
     "text": [
      "Enter the percentage: 35.75\n",
      "The grade is: F\n"
     ]
    }
   ],
   "source": [
    "# Input\n",
    "percentage = float(input(\"Enter the percentage: \"))\n",
    "\n",
    "# Determine the grade\n",
    "if percentage >= 90:\n",
    "    grade = \"A+\"\n",
    "elif percentage >= 80:\n",
    "    grade = \"A\"\n",
    "elif percentage >= 70:\n",
    "    grade = \"B\"\n",
    "elif percentage >= 60:\n",
    "    grade = \"C\"\n",
    "elif percentage >= 50:\n",
    "    grade = \"D\"\n",
    "else:\n",
    "    grade = \"F\"\n",
    "\n",
    "# Output\n",
    "print(\"The grade is:\",grade)"
   ]
  },
  {
   "cell_type": "markdown",
   "id": "e84e2524",
   "metadata": {},
   "source": [
    "# For Loop"
   ]
  },
  {
   "cell_type": "markdown",
   "id": "a4c5afa2",
   "metadata": {},
   "source": [
    "11. Printing the first n natural numbers:"
   ]
  },
  {
   "cell_type": "code",
   "execution_count": 17,
   "id": "946a088d",
   "metadata": {},
   "outputs": [
    {
     "name": "stdout",
     "output_type": "stream",
     "text": [
      "Enter the value of n: 5\n",
      "1\n",
      "2\n",
      "3\n",
      "4\n",
      "5\n"
     ]
    }
   ],
   "source": [
    "# Input\n",
    "n = int(input(\"Enter the value of n: \"))\n",
    "\n",
    "# Print the first n natural numbers\n",
    "for i in range(1, n + 1):\n",
    "    print(i)"
   ]
  },
  {
   "cell_type": "markdown",
   "id": "ff0464c3",
   "metadata": {},
   "source": [
    "12. Calculating the factorial of a number:"
   ]
  },
  {
   "cell_type": "code",
   "execution_count": 19,
   "id": "3decb050",
   "metadata": {},
   "outputs": [
    {
     "name": "stdout",
     "output_type": "stream",
     "text": [
      "Enter a number: 4\n",
      "Factorial of 4 is 24\n"
     ]
    }
   ],
   "source": [
    "# Input\n",
    "num = int(input(\"Enter a number: \"))\n",
    "\n",
    "# Calculate the factorial\n",
    "factorial = 1\n",
    "for i in range(1, num + 1):\n",
    "    factorial *= i\n",
    "    \n",
    "# Output\n",
    "print(\"Factorial of\", num, \"is\", factorial)\n"
   ]
  },
  {
   "cell_type": "markdown",
   "id": "e02bc6a6",
   "metadata": {},
   "source": [
    "13. Generating a Fibonacci sequence of length n:"
   ]
  },
  {
   "cell_type": "code",
   "execution_count": 20,
   "id": "9de2c588",
   "metadata": {},
   "outputs": [
    {
     "name": "stdout",
     "output_type": "stream",
     "text": [
      "Enter the length of the Fibonacci sequence: 12\n",
      "Fibonacci sequence of length 12 is: [0, 1, 1, 2, 3, 5, 8, 13, 21, 34, 55, 89]\n"
     ]
    }
   ],
   "source": [
    "# Input\n",
    "n = int(input(\"Enter the length of the Fibonacci sequence: \"))\n",
    "\n",
    "# Generate the Fibonacci sequence\n",
    "fib_sequence = [0, 1]\n",
    "for i in range(2, n):\n",
    "    next_number = fib_sequence[-1] + fib_sequence[-2]\n",
    "    fib_sequence.append(next_number)\n",
    "\n",
    "# Output\n",
    "print(\"Fibonacci sequence of length\", n, \"is:\", fib_sequence)"
   ]
  },
  {
   "cell_type": "markdown",
   "id": "3c39f809",
   "metadata": {},
   "source": [
    "14. Checking if a given number is prime or not:"
   ]
  },
  {
   "cell_type": "code",
   "execution_count": 21,
   "id": "a79b06a1",
   "metadata": {},
   "outputs": [
    {
     "name": "stdout",
     "output_type": "stream",
     "text": [
      "Enter a number: 13\n",
      "13 is a prime number.\n"
     ]
    }
   ],
   "source": [
    "# Input\n",
    "num = int(input(\"Enter a number: \"))\n",
    "\n",
    "# Check if the number is prime\n",
    "is_prime = True\n",
    "if num <= 1:\n",
    "    is_prime = False\n",
    "else:\n",
    "    for i in range(2, int(num**0.5) + 1):\n",
    "        if num % i == 0:\n",
    "            is_prime = False\n",
    "            break\n",
    "\n",
    "# Output\n",
    "if is_prime:\n",
    "    print(num, \"is a prime number.\")\n",
    "else:\n",
    "    print(num, \"is not a prime number.\")"
   ]
  },
  {
   "cell_type": "markdown",
   "id": "2af915a9",
   "metadata": {},
   "source": [
    "15. Printing the multiplication table of a given number:"
   ]
  },
  {
   "cell_type": "code",
   "execution_count": 24,
   "id": "e2426e77",
   "metadata": {},
   "outputs": [
    {
     "name": "stdout",
     "output_type": "stream",
     "text": [
      "Enter a number for its multiplication table: 5\n",
      "Multiplication table for 5\n",
      "5 x 1 = 5\n",
      "5 x 2 = 10\n",
      "5 x 3 = 15\n",
      "5 x 4 = 20\n",
      "5 x 5 = 25\n",
      "5 x 6 = 30\n",
      "5 x 7 = 35\n",
      "5 x 8 = 40\n",
      "5 x 9 = 45\n",
      "5 x 10 = 50\n"
     ]
    }
   ],
   "source": [
    "# Input\n",
    "num = int(input(\"Enter a number for its multiplication table: \"))\n",
    "\n",
    "# Print the multiplication table\n",
    "print(\"Multiplication table for\",num)\n",
    "for i in range(1, 11):\n",
    "    print(num, \"x\", i, \"=\",num*i)"
   ]
  },
  {
   "cell_type": "markdown",
   "id": "56f9bb16",
   "metadata": {},
   "source": [
    "# While loops"
   ]
  },
  {
   "cell_type": "markdown",
   "id": "21a35590",
   "metadata": {},
   "source": [
    "16. Finding the sum of all even numbers between 1 and n:"
   ]
  },
  {
   "cell_type": "code",
   "execution_count": 25,
   "id": "fc5976c6",
   "metadata": {},
   "outputs": [
    {
     "name": "stdout",
     "output_type": "stream",
     "text": [
      "Enter the value of n: 12\n",
      "The sum of even numbers between 1 and 12 is 42\n"
     ]
    }
   ],
   "source": [
    "# Input\n",
    "n = int(input(\"Enter the value of n: \"))\n",
    "\n",
    "# Initialize variables\n",
    "sum_even = 0\n",
    "i = 2  # Start with the first even number\n",
    "\n",
    "# Calculate the sum of even numbers\n",
    "while i <= n:\n",
    "    sum_even += i\n",
    "    i += 2  # Move to the next even number\n",
    "\n",
    "# Output\n",
    "print(\"The sum of even numbers between 1 and\", n, \"is\", sum_even)"
   ]
  },
  {
   "cell_type": "markdown",
   "id": "3e0a950b",
   "metadata": {},
   "source": [
    "17. Reversing a given number:"
   ]
  },
  {
   "cell_type": "code",
   "execution_count": 26,
   "id": "def612ac",
   "metadata": {},
   "outputs": [
    {
     "name": "stdout",
     "output_type": "stream",
     "text": [
      "Enter a number: 21\n",
      "Reversed number is: 12\n"
     ]
    }
   ],
   "source": [
    "# Input\n",
    "number = int(input(\"Enter a number: \"))\n",
    "\n",
    "# Initialize variables\n",
    "reversed_num = 0\n",
    "\n",
    "# Reverse the number\n",
    "while number > 0:\n",
    "    digit = number % 10\n",
    "    reversed_num = reversed_num * 10 + digit\n",
    "    number = number // 10\n",
    "\n",
    "# Output\n",
    "print(\"Reversed number is:\", reversed_num)"
   ]
  },
  {
   "cell_type": "markdown",
   "id": "0e0d9662",
   "metadata": {},
   "source": [
    "18. Checking if a given string is a palindrome:"
   ]
  },
  {
   "cell_type": "code",
   "execution_count": 27,
   "id": "fb6bc9ab",
   "metadata": {},
   "outputs": [
    {
     "name": "stdout",
     "output_type": "stream",
     "text": [
      "Enter a string: radar\n",
      "The string is a palindrome.\n"
     ]
    }
   ],
   "source": [
    "# Input\n",
    "string = input(\"Enter a string: \")\n",
    "\n",
    "# Initialize variables\n",
    "string = string.lower()  # Convert to lowercase for case-insensitivity\n",
    "is_palindrome = True\n",
    "left = 0\n",
    "right = len(string) - 1\n",
    "\n",
    "# Check\n",
    "while left < right:\n",
    "    if string[left] != string[right]:\n",
    "        is_palindrome = False\n",
    "        break\n",
    "    left += 1\n",
    "    right -= 1\n",
    "# Output\n",
    "if is_palindrome:\n",
    "    print(\"The string is a palindrome.\")\n",
    "else:\n",
    "    print(\"The string is not a palindrome.\")"
   ]
  },
  {
   "cell_type": "markdown",
   "id": "8c06f6aa",
   "metadata": {},
   "source": [
    "19. Generating a random number and allowing the user to guess it:"
   ]
  },
  {
   "cell_type": "code",
   "execution_count": 29,
   "id": "93c20a3c",
   "metadata": {},
   "outputs": [
    {
     "name": "stdout",
     "output_type": "stream",
     "text": [
      "Guess the number (between 1 and 100): 13\n",
      "Try a higher number.\n",
      "Guess the number (between 1 and 100): 45\n",
      "Try a higher number.\n",
      "Guess the number (between 1 and 100): 78\n",
      "Try a higher number.\n",
      "Guess the number (between 1 and 100): 90\n",
      "Try a lower number.\n",
      "Guess the number (between 1 and 100): 56\n",
      "Try a higher number.\n",
      "Guess the number (between 1 and 100): 86\n",
      "Congratulations! You guessed the number 86 in 6 attempts.\n"
     ]
    }
   ],
   "source": [
    "import random\n",
    "\n",
    "# Generate a random number between 1 and 100\n",
    "random_number = random.randint(1, 100)\n",
    "\n",
    "# Initialize variables\n",
    "attempts = 0\n",
    "guess = None\n",
    "\n",
    "# Allow the user to guess\n",
    "while guess != random_number:\n",
    "    guess = int(input(\"Guess the number (between 1 and 100): \"))\n",
    "    attempts += 1\n",
    "    if guess < random_number:\n",
    "        print(\"Try a higher number.\")\n",
    "    elif guess > random_number:\n",
    "        print(\"Try a lower number.\")\n",
    "\n",
    "# Output\n",
    "print(\"Congratulations! You guessed the number\", random_number, \"in\", attempts, \"attempts.\")"
   ]
  },
  {
   "cell_type": "markdown",
   "id": "fee9b1f5",
   "metadata": {},
   "source": [
    "20. Finding the greatest common divisor (GCD) of two numbers:"
   ]
  },
  {
   "cell_type": "code",
   "execution_count": 31,
   "id": "361cf14e",
   "metadata": {},
   "outputs": [
    {
     "name": "stdout",
     "output_type": "stream",
     "text": [
      "Enter the first number: 12\n",
      "Enter the second number: 23\n",
      "The greatest common divisor (GCD) is: 1\n"
     ]
    }
   ],
   "source": [
    "# Input\n",
    "num1 = int(input(\"Enter the first number: \"))\n",
    "num2 = int(input(\"Enter the second number: \"))\n",
    "\n",
    "# Find the GCD \n",
    "while num2 != 0:\n",
    "    num1, num2 = num2, num1 % num2\n",
    "\n",
    "# Output\n",
    "print(\"The greatest common divisor (GCD) is:\",num1)"
   ]
  }
 ],
 "metadata": {
  "kernelspec": {
   "display_name": "Python 3 (ipykernel)",
   "language": "python",
   "name": "python3"
  },
  "language_info": {
   "codemirror_mode": {
    "name": "ipython",
    "version": 3
   },
   "file_extension": ".py",
   "mimetype": "text/x-python",
   "name": "python",
   "nbconvert_exporter": "python",
   "pygments_lexer": "ipython3",
   "version": "3.11.5"
  }
 },
 "nbformat": 4,
 "nbformat_minor": 5
}
