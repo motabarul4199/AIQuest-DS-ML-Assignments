{
 "cells": [
  {
   "cell_type": "code",
   "execution_count": 2,
   "id": "08cbd9e9",
   "metadata": {},
   "outputs": [],
   "source": [
    "\n",
    "import pandas as pd\n",
    "import numpy as np\n",
    "import matplotlib.pyplot as plt\n",
    "%matplotlib inline\n"
   ]
  },
  {
   "cell_type": "code",
   "execution_count": 3,
   "id": "40088608",
   "metadata": {},
   "outputs": [],
   "source": [
    "\n",
    "df = pd.DataFrame({\n",
    "    \"Weight\":[2,4,5,3,6,5,7],\n",
    "    \"Price\":[35,60,20,50,50,55,60]\n",
    "})"
   ]
  },
  {
   "cell_type": "code",
   "execution_count": 4,
   "id": "0149b8eb",
   "metadata": {},
   "outputs": [
    {
     "data": {
      "text/html": [
       "<div>\n",
       "<style scoped>\n",
       "    .dataframe tbody tr th:only-of-type {\n",
       "        vertical-align: middle;\n",
       "    }\n",
       "\n",
       "    .dataframe tbody tr th {\n",
       "        vertical-align: top;\n",
       "    }\n",
       "\n",
       "    .dataframe thead th {\n",
       "        text-align: right;\n",
       "    }\n",
       "</style>\n",
       "<table border=\"1\" class=\"dataframe\">\n",
       "  <thead>\n",
       "    <tr style=\"text-align: right;\">\n",
       "      <th></th>\n",
       "      <th>Weight</th>\n",
       "      <th>Price</th>\n",
       "    </tr>\n",
       "  </thead>\n",
       "  <tbody>\n",
       "    <tr>\n",
       "      <th>0</th>\n",
       "      <td>2</td>\n",
       "      <td>35</td>\n",
       "    </tr>\n",
       "    <tr>\n",
       "      <th>1</th>\n",
       "      <td>4</td>\n",
       "      <td>60</td>\n",
       "    </tr>\n",
       "    <tr>\n",
       "      <th>2</th>\n",
       "      <td>5</td>\n",
       "      <td>20</td>\n",
       "    </tr>\n",
       "    <tr>\n",
       "      <th>3</th>\n",
       "      <td>3</td>\n",
       "      <td>50</td>\n",
       "    </tr>\n",
       "    <tr>\n",
       "      <th>4</th>\n",
       "      <td>6</td>\n",
       "      <td>50</td>\n",
       "    </tr>\n",
       "    <tr>\n",
       "      <th>5</th>\n",
       "      <td>5</td>\n",
       "      <td>55</td>\n",
       "    </tr>\n",
       "    <tr>\n",
       "      <th>6</th>\n",
       "      <td>7</td>\n",
       "      <td>60</td>\n",
       "    </tr>\n",
       "  </tbody>\n",
       "</table>\n",
       "</div>"
      ],
      "text/plain": [
       "   Weight  Price\n",
       "0       2     35\n",
       "1       4     60\n",
       "2       5     20\n",
       "3       3     50\n",
       "4       6     50\n",
       "5       5     55\n",
       "6       7     60"
      ]
     },
     "execution_count": 4,
     "metadata": {},
     "output_type": "execute_result"
    }
   ],
   "source": [
    "df"
   ]
  },
  {
   "cell_type": "code",
   "execution_count": 5,
   "id": "2caa8213",
   "metadata": {},
   "outputs": [
    {
     "data": {
      "text/html": [
       "<div>\n",
       "<style scoped>\n",
       "    .dataframe tbody tr th:only-of-type {\n",
       "        vertical-align: middle;\n",
       "    }\n",
       "\n",
       "    .dataframe tbody tr th {\n",
       "        vertical-align: top;\n",
       "    }\n",
       "\n",
       "    .dataframe thead th {\n",
       "        text-align: right;\n",
       "    }\n",
       "</style>\n",
       "<table border=\"1\" class=\"dataframe\">\n",
       "  <thead>\n",
       "    <tr style=\"text-align: right;\">\n",
       "      <th></th>\n",
       "      <th>Weight</th>\n",
       "      <th>Price</th>\n",
       "    </tr>\n",
       "  </thead>\n",
       "  <tbody>\n",
       "    <tr>\n",
       "      <th>0</th>\n",
       "      <td>2</td>\n",
       "      <td>35</td>\n",
       "    </tr>\n",
       "    <tr>\n",
       "      <th>1</th>\n",
       "      <td>4</td>\n",
       "      <td>60</td>\n",
       "    </tr>\n",
       "    <tr>\n",
       "      <th>2</th>\n",
       "      <td>5</td>\n",
       "      <td>20</td>\n",
       "    </tr>\n",
       "    <tr>\n",
       "      <th>3</th>\n",
       "      <td>3</td>\n",
       "      <td>50</td>\n",
       "    </tr>\n",
       "    <tr>\n",
       "      <th>4</th>\n",
       "      <td>6</td>\n",
       "      <td>50</td>\n",
       "    </tr>\n",
       "  </tbody>\n",
       "</table>\n",
       "</div>"
      ],
      "text/plain": [
       "   Weight  Price\n",
       "0       2     35\n",
       "1       4     60\n",
       "2       5     20\n",
       "3       3     50\n",
       "4       6     50"
      ]
     },
     "execution_count": 5,
     "metadata": {},
     "output_type": "execute_result"
    }
   ],
   "source": [
    "df.head()"
   ]
  },
  {
   "cell_type": "code",
   "execution_count": 8,
   "id": "e49a7dd0",
   "metadata": {},
   "outputs": [
    {
     "data": {
      "text/html": [
       "<div>\n",
       "<style scoped>\n",
       "    .dataframe tbody tr th:only-of-type {\n",
       "        vertical-align: middle;\n",
       "    }\n",
       "\n",
       "    .dataframe tbody tr th {\n",
       "        vertical-align: top;\n",
       "    }\n",
       "\n",
       "    .dataframe thead th {\n",
       "        text-align: right;\n",
       "    }\n",
       "</style>\n",
       "<table border=\"1\" class=\"dataframe\">\n",
       "  <thead>\n",
       "    <tr style=\"text-align: right;\">\n",
       "      <th></th>\n",
       "      <th>Weight</th>\n",
       "      <th>Price</th>\n",
       "    </tr>\n",
       "  </thead>\n",
       "  <tbody>\n",
       "    <tr>\n",
       "      <th>0</th>\n",
       "      <td>False</td>\n",
       "      <td>False</td>\n",
       "    </tr>\n",
       "    <tr>\n",
       "      <th>1</th>\n",
       "      <td>False</td>\n",
       "      <td>False</td>\n",
       "    </tr>\n",
       "    <tr>\n",
       "      <th>2</th>\n",
       "      <td>False</td>\n",
       "      <td>False</td>\n",
       "    </tr>\n",
       "    <tr>\n",
       "      <th>3</th>\n",
       "      <td>False</td>\n",
       "      <td>False</td>\n",
       "    </tr>\n",
       "    <tr>\n",
       "      <th>4</th>\n",
       "      <td>False</td>\n",
       "      <td>False</td>\n",
       "    </tr>\n",
       "    <tr>\n",
       "      <th>5</th>\n",
       "      <td>False</td>\n",
       "      <td>False</td>\n",
       "    </tr>\n",
       "    <tr>\n",
       "      <th>6</th>\n",
       "      <td>False</td>\n",
       "      <td>False</td>\n",
       "    </tr>\n",
       "  </tbody>\n",
       "</table>\n",
       "</div>"
      ],
      "text/plain": [
       "   Weight  Price\n",
       "0   False  False\n",
       "1   False  False\n",
       "2   False  False\n",
       "3   False  False\n",
       "4   False  False\n",
       "5   False  False\n",
       "6   False  False"
      ]
     },
     "execution_count": 8,
     "metadata": {},
     "output_type": "execute_result"
    }
   ],
   "source": [
    "df.isnull()"
   ]
  },
  {
   "cell_type": "code",
   "execution_count": 9,
   "id": "f5742080",
   "metadata": {},
   "outputs": [
    {
     "data": {
      "text/plain": [
       "Weight    0\n",
       "Price     0\n",
       "dtype: int64"
      ]
     },
     "execution_count": 9,
     "metadata": {},
     "output_type": "execute_result"
    }
   ],
   "source": [
    "df.isnull().sum()"
   ]
  },
  {
   "cell_type": "code",
   "execution_count": 10,
   "id": "0c8e465b",
   "metadata": {},
   "outputs": [],
   "source": [
    "x = df['Weight']\n",
    "\n",
    "y = df['Price']"
   ]
  },
  {
   "cell_type": "code",
   "execution_count": 11,
   "id": "26cac1c7",
   "metadata": {},
   "outputs": [
    {
     "data": {
      "text/plain": [
       "0    2\n",
       "1    4\n",
       "2    5\n",
       "3    3\n",
       "4    6\n",
       "5    5\n",
       "6    7\n",
       "Name: Weight, dtype: int64"
      ]
     },
     "execution_count": 11,
     "metadata": {},
     "output_type": "execute_result"
    }
   ],
   "source": [
    "x"
   ]
  },
  {
   "cell_type": "code",
   "execution_count": 12,
   "id": "a5d05e04",
   "metadata": {},
   "outputs": [
    {
     "data": {
      "text/plain": [
       "0    35\n",
       "1    60\n",
       "2    20\n",
       "3    50\n",
       "4    50\n",
       "5    55\n",
       "6    60\n",
       "Name: Price, dtype: int64"
      ]
     },
     "execution_count": 12,
     "metadata": {},
     "output_type": "execute_result"
    }
   ],
   "source": [
    "y"
   ]
  },
  {
   "cell_type": "code",
   "execution_count": 13,
   "id": "ac9dca92",
   "metadata": {},
   "outputs": [],
   "source": [
    "mean_x = np.mean(x)\n",
    "mean_y = np.mean(y)"
   ]
  },
  {
   "cell_type": "code",
   "execution_count": 14,
   "id": "8fdb8679",
   "metadata": {},
   "outputs": [
    {
     "data": {
      "text/plain": [
       "4.571428571428571"
      ]
     },
     "execution_count": 14,
     "metadata": {},
     "output_type": "execute_result"
    }
   ],
   "source": [
    "mean_x"
   ]
  },
  {
   "cell_type": "code",
   "execution_count": 15,
   "id": "d736e08a",
   "metadata": {},
   "outputs": [
    {
     "data": {
      "text/plain": [
       "47.142857142857146"
      ]
     },
     "execution_count": 15,
     "metadata": {},
     "output_type": "execute_result"
    }
   ],
   "source": [
    "mean_y"
   ]
  },
  {
   "cell_type": "code",
   "execution_count": 16,
   "id": "b0f00e0f",
   "metadata": {},
   "outputs": [],
   "source": [
    "dev_x = x - mean_x\n",
    "dev_y = y - mean_y"
   ]
  },
  {
   "cell_type": "code",
   "execution_count": 17,
   "id": "16324090",
   "metadata": {},
   "outputs": [
    {
     "data": {
      "text/plain": [
       "0   -2.571429\n",
       "1   -0.571429\n",
       "2    0.428571\n",
       "3   -1.571429\n",
       "4    1.428571\n",
       "5    0.428571\n",
       "6    2.428571\n",
       "Name: Weight, dtype: float64"
      ]
     },
     "execution_count": 17,
     "metadata": {},
     "output_type": "execute_result"
    }
   ],
   "source": [
    "dev_x"
   ]
  },
  {
   "cell_type": "code",
   "execution_count": 18,
   "id": "aa8abe20",
   "metadata": {},
   "outputs": [
    {
     "data": {
      "text/plain": [
       "0   -12.142857\n",
       "1    12.857143\n",
       "2   -27.142857\n",
       "3     2.857143\n",
       "4     2.857143\n",
       "5     7.857143\n",
       "6    12.857143\n",
       "Name: Price, dtype: float64"
      ]
     },
     "execution_count": 18,
     "metadata": {},
     "output_type": "execute_result"
    }
   ],
   "source": [
    "dev_y"
   ]
  },
  {
   "cell_type": "code",
   "execution_count": 19,
   "id": "c42fff13",
   "metadata": {},
   "outputs": [
    {
     "data": {
      "text/plain": [
       "2.620967741935484"
      ]
     },
     "execution_count": 19,
     "metadata": {},
     "output_type": "execute_result"
    }
   ],
   "source": [
    "m = np.sum(dev_x*dev_y) / np.sum(dev_x**2)\n",
    "m"
   ]
  },
  {
   "cell_type": "code",
   "execution_count": 21,
   "id": "b1249d45",
   "metadata": {},
   "outputs": [
    {
     "data": {
      "text/plain": [
       "35.16129032258065"
      ]
     },
     "execution_count": 21,
     "metadata": {},
     "output_type": "execute_result"
    }
   ],
   "source": [
    "c = mean_y - (m * mean_x)\n",
    "c"
   ]
  },
  {
   "cell_type": "markdown",
   "id": "ed01e078",
   "metadata": {},
   "source": [
    "predict the price when the vegetable weight is 6"
   ]
  },
  {
   "cell_type": "code",
   "execution_count": 22,
   "id": "cb2eec4d",
   "metadata": {},
   "outputs": [
    {
     "data": {
      "text/plain": [
       "50.88709677419355"
      ]
     },
     "execution_count": 22,
     "metadata": {},
     "output_type": "execute_result"
    }
   ],
   "source": [
    "veg_w_6 = (m * 6 ) + c\n",
    "veg_w_6"
   ]
  },
  {
   "cell_type": "markdown",
   "id": "92f913ab",
   "metadata": {},
   "source": [
    "Compute the residuals for each data point."
   ]
  },
  {
   "cell_type": "code",
   "execution_count": 23,
   "id": "c141e3a9",
   "metadata": {},
   "outputs": [
    {
     "data": {
      "text/html": [
       "<div>\n",
       "<style scoped>\n",
       "    .dataframe tbody tr th:only-of-type {\n",
       "        vertical-align: middle;\n",
       "    }\n",
       "\n",
       "    .dataframe tbody tr th {\n",
       "        vertical-align: top;\n",
       "    }\n",
       "\n",
       "    .dataframe thead th {\n",
       "        text-align: right;\n",
       "    }\n",
       "</style>\n",
       "<table border=\"1\" class=\"dataframe\">\n",
       "  <thead>\n",
       "    <tr style=\"text-align: right;\">\n",
       "      <th></th>\n",
       "      <th>Weight</th>\n",
       "      <th>Price</th>\n",
       "      <th>Predicted Price</th>\n",
       "    </tr>\n",
       "  </thead>\n",
       "  <tbody>\n",
       "    <tr>\n",
       "      <th>0</th>\n",
       "      <td>2</td>\n",
       "      <td>35</td>\n",
       "      <td>40.403226</td>\n",
       "    </tr>\n",
       "    <tr>\n",
       "      <th>1</th>\n",
       "      <td>4</td>\n",
       "      <td>60</td>\n",
       "      <td>45.645161</td>\n",
       "    </tr>\n",
       "    <tr>\n",
       "      <th>2</th>\n",
       "      <td>5</td>\n",
       "      <td>20</td>\n",
       "      <td>48.266129</td>\n",
       "    </tr>\n",
       "    <tr>\n",
       "      <th>3</th>\n",
       "      <td>3</td>\n",
       "      <td>50</td>\n",
       "      <td>43.024194</td>\n",
       "    </tr>\n",
       "    <tr>\n",
       "      <th>4</th>\n",
       "      <td>6</td>\n",
       "      <td>50</td>\n",
       "      <td>50.887097</td>\n",
       "    </tr>\n",
       "    <tr>\n",
       "      <th>5</th>\n",
       "      <td>5</td>\n",
       "      <td>55</td>\n",
       "      <td>48.266129</td>\n",
       "    </tr>\n",
       "    <tr>\n",
       "      <th>6</th>\n",
       "      <td>7</td>\n",
       "      <td>60</td>\n",
       "      <td>53.508065</td>\n",
       "    </tr>\n",
       "  </tbody>\n",
       "</table>\n",
       "</div>"
      ],
      "text/plain": [
       "   Weight  Price  Predicted Price\n",
       "0       2     35        40.403226\n",
       "1       4     60        45.645161\n",
       "2       5     20        48.266129\n",
       "3       3     50        43.024194\n",
       "4       6     50        50.887097\n",
       "5       5     55        48.266129\n",
       "6       7     60        53.508065"
      ]
     },
     "execution_count": 23,
     "metadata": {},
     "output_type": "execute_result"
    }
   ],
   "source": [
    "\n",
    "df['Predicted Price'] = (m * df['Weight']) + c\n",
    "\n",
    "df"
   ]
  },
  {
   "cell_type": "code",
   "execution_count": 24,
   "id": "403a9841",
   "metadata": {},
   "outputs": [
    {
     "data": {
      "text/html": [
       "<div>\n",
       "<style scoped>\n",
       "    .dataframe tbody tr th:only-of-type {\n",
       "        vertical-align: middle;\n",
       "    }\n",
       "\n",
       "    .dataframe tbody tr th {\n",
       "        vertical-align: top;\n",
       "    }\n",
       "\n",
       "    .dataframe thead th {\n",
       "        text-align: right;\n",
       "    }\n",
       "</style>\n",
       "<table border=\"1\" class=\"dataframe\">\n",
       "  <thead>\n",
       "    <tr style=\"text-align: right;\">\n",
       "      <th></th>\n",
       "      <th>Weight</th>\n",
       "      <th>Price</th>\n",
       "      <th>Predicted Price</th>\n",
       "      <th>Residual</th>\n",
       "    </tr>\n",
       "  </thead>\n",
       "  <tbody>\n",
       "    <tr>\n",
       "      <th>0</th>\n",
       "      <td>2</td>\n",
       "      <td>35</td>\n",
       "      <td>40.403226</td>\n",
       "      <td>-5.403226</td>\n",
       "    </tr>\n",
       "    <tr>\n",
       "      <th>1</th>\n",
       "      <td>4</td>\n",
       "      <td>60</td>\n",
       "      <td>45.645161</td>\n",
       "      <td>14.354839</td>\n",
       "    </tr>\n",
       "    <tr>\n",
       "      <th>2</th>\n",
       "      <td>5</td>\n",
       "      <td>20</td>\n",
       "      <td>48.266129</td>\n",
       "      <td>-28.266129</td>\n",
       "    </tr>\n",
       "    <tr>\n",
       "      <th>3</th>\n",
       "      <td>3</td>\n",
       "      <td>50</td>\n",
       "      <td>43.024194</td>\n",
       "      <td>6.975806</td>\n",
       "    </tr>\n",
       "    <tr>\n",
       "      <th>4</th>\n",
       "      <td>6</td>\n",
       "      <td>50</td>\n",
       "      <td>50.887097</td>\n",
       "      <td>-0.887097</td>\n",
       "    </tr>\n",
       "    <tr>\n",
       "      <th>5</th>\n",
       "      <td>5</td>\n",
       "      <td>55</td>\n",
       "      <td>48.266129</td>\n",
       "      <td>6.733871</td>\n",
       "    </tr>\n",
       "    <tr>\n",
       "      <th>6</th>\n",
       "      <td>7</td>\n",
       "      <td>60</td>\n",
       "      <td>53.508065</td>\n",
       "      <td>6.491935</td>\n",
       "    </tr>\n",
       "  </tbody>\n",
       "</table>\n",
       "</div>"
      ],
      "text/plain": [
       "   Weight  Price  Predicted Price   Residual\n",
       "0       2     35        40.403226  -5.403226\n",
       "1       4     60        45.645161  14.354839\n",
       "2       5     20        48.266129 -28.266129\n",
       "3       3     50        43.024194   6.975806\n",
       "4       6     50        50.887097  -0.887097\n",
       "5       5     55        48.266129   6.733871\n",
       "6       7     60        53.508065   6.491935"
      ]
     },
     "execution_count": 24,
     "metadata": {},
     "output_type": "execute_result"
    }
   ],
   "source": [
    "df['Residual'] = df['Price'] - df['Predicted Price']\n",
    "df"
   ]
  },
  {
   "cell_type": "markdown",
   "id": "758c8182",
   "metadata": {},
   "source": [
    "Calculate both the Mean Squared Error (MSE) and Mean Absolute Error (MAE)"
   ]
  },
  {
   "cell_type": "markdown",
   "id": "f001f915",
   "metadata": {},
   "source": [
    "# MSE"
   ]
  },
  {
   "cell_type": "code",
   "execution_count": 25,
   "id": "85bb667b",
   "metadata": {},
   "outputs": [
    {
     "data": {
      "text/plain": [
       "167.30990783410135"
      ]
     },
     "execution_count": 25,
     "metadata": {},
     "output_type": "execute_result"
    }
   ],
   "source": [
    "from sklearn.metrics import mean_squared_error\n",
    "mse = mean_squared_error(df['Price'], df['Predicted Price'])\n",
    "mse"
   ]
  },
  {
   "cell_type": "markdown",
   "id": "873fdf22",
   "metadata": {},
   "source": [
    "# MAE"
   ]
  },
  {
   "cell_type": "code",
   "execution_count": 26,
   "id": "44ff00ae",
   "metadata": {},
   "outputs": [
    {
     "data": {
      "text/plain": [
       "9.87327188940092"
      ]
     },
     "execution_count": 26,
     "metadata": {},
     "output_type": "execute_result"
    }
   ],
   "source": [
    "from sklearn.metrics import mean_absolute_error\n",
    "mae = mean_absolute_error(df['Price'], df['Predicted Price'])\n",
    "mae"
   ]
  },
  {
   "cell_type": "markdown",
   "id": "92f6c5fd",
   "metadata": {},
   "source": [
    "Generate an Excel file for the given dataset. Utilize Python for all the calculations"
   ]
  },
  {
   "cell_type": "code",
   "execution_count": 27,
   "id": "d55b9e23",
   "metadata": {},
   "outputs": [],
   "source": [
    "df.to_excel('linear_regression_results.xlsx', index=False)"
   ]
  },
  {
   "cell_type": "code",
   "execution_count": null,
   "id": "c76f2936",
   "metadata": {},
   "outputs": [],
   "source": []
  }
 ],
 "metadata": {
  "kernelspec": {
   "display_name": "Python 3 (ipykernel)",
   "language": "python",
   "name": "python3"
  },
  "language_info": {
   "codemirror_mode": {
    "name": "ipython",
    "version": 3
   },
   "file_extension": ".py",
   "mimetype": "text/x-python",
   "name": "python",
   "nbconvert_exporter": "python",
   "pygments_lexer": "ipython3",
   "version": "3.11.5"
  }
 },
 "nbformat": 4,
 "nbformat_minor": 5
}
